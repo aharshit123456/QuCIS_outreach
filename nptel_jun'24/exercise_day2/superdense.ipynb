{
 "cells": [
  {
   "cell_type": "markdown",
   "metadata": {},
   "source": [
    "Day 2 exercise\n",
    "\n",
    "## Superdense coding\n",
    "\n",
    "[Sending classical information using qubits]\n",
    "\n",
    "The problem: Alice wants to send classical information to Bob, say one of four cricketers, Virat, Sachin, Ganguly and Dravid. She can either send her preference using classical bits or qubits, and we will see that if Alice and Bob share entanglement, Alice only needs to send half the number of qubits as she would bits."
   ]
  },
  {
   "cell_type": "markdown",
   "metadata": {},
   "source": [
    "What you would do classically?\n",
    "\n",
    "Well, classically for the `4` possibilities, Alice has to send two bits of classical information. For example, `00` for `Virat`, `01` for `Sachin`, `10` for `Ganguly` and `11` for `Dravid`."
   ]
  },
  {
   "cell_type": "markdown",
   "metadata": {},
   "source": [
    "#### The Quantum solution:\n",
    "\n",
    "Using superdense protocol Alice can just send 1 qubit to Bob and convey her choice.\n",
    "The protocol is as follows:\n",
    "1. Alice and Bob share an entangled state.\n",
    "2. Alice choses the two classical bits, she wants to send to Bob.\n",
    "3. Alice applies the following gate on her shared entangled qubit, depending on the choice.\n",
    "\n",
    "| Alice's choice     | Gate on Alice's qubit|\n",
    "|--------------------|----------------------|\n",
    "| 00                 | I                    |\n",
    "| 01                 | X                    |\n",
    "| 10                 | Z                    |\n",
    "| 11                 | ZX                   |\n",
    "\n",
    "4. Now Alice sends her qubit to Bob.\n",
    "5. Bob performs the Bell basis measurement.\n",
    "\n",
    "The above protocol is the standard `superdense coding`."
   ]
  },
  {
   "cell_type": "code",
   "execution_count": 1,
   "metadata": {},
   "outputs": [],
   "source": [
    "# Import pennylane module\n",
    "import pennylane as qml"
   ]
  },
  {
   "cell_type": "code",
   "execution_count": 2,
   "metadata": {},
   "outputs": [],
   "source": [
    "# Prepares the Bell state.\n",
    "def bell_state():\n",
    "    # Your code goes here ->\n",
    "    qml.Hadamard(wires=\"a\")\n",
    "    qml.CNOT(wires=[\"a\",\"b\"])"
   ]
  },
  {
   "cell_type": "markdown",
   "metadata": {},
   "source": [
    "Task: Design Alice' operation according to the table"
   ]
  },
  {
   "cell_type": "code",
   "execution_count": 3,
   "metadata": {},
   "outputs": [],
   "source": [
    "# Alice's operations:\n",
    "def alice(message: str):\n",
    "    # Your code goes here ->\n",
    "    if message == \"00\":\n",
    "        qml.Identity(wires=\"a\")\n",
    "    if message == \"01\":\n",
    "        qml.PauliX(wires=\"a\")\n",
    "    if message == \"10\":\n",
    "        qml.PauliZ(wires=\"a\")\n",
    "    if message == \"11\":\n",
    "        qml.PauliX(wires=\"a\")\n",
    "        qml.PauliZ(wires=\"a\")"
   ]
  },
  {
   "cell_type": "code",
   "execution_count": 4,
   "metadata": {},
   "outputs": [],
   "source": [
    "# Bell basis measurement:\n",
    "def bell_basis_transform():\n",
    "    qml.CNOT(wires=[\"a\",\"b\"])\n",
    "    qml.Hadamard(wires=\"a\")"
   ]
  },
  {
   "cell_type": "code",
   "execution_count": 5,
   "metadata": {},
   "outputs": [],
   "source": [
    "# Define a quantum device\n",
    "device = qml.device(\"default.qubit\", wires=[\"a\", \"b\"])\n",
    "\n",
    "@qml.qnode(device)\n",
    "# The complete protocol\n",
    "def superdense(message: str):\n",
    "    # Your code goes here ->\n",
    "    bell_state()\n",
    "    alice(message=message)\n",
    "    bell_basis_transform()\n",
    "    # returns probabilities of the computational basis states\n",
    "    return qml.probs(wires=[\"a\",\"b\"])"
   ]
  },
  {
   "cell_type": "code",
   "execution_count": 6,
   "metadata": {},
   "outputs": [],
   "source": [
    "message=\"10\""
   ]
  },
  {
   "cell_type": "code",
   "execution_count": 8,
   "metadata": {},
   "outputs": [
    {
     "data": {
      "image/png": "[encoded data removed]",
      "text/plain": [
       "<Figure size 800x300 with 1 Axes>"
      ]
     },
     "metadata": {},
     "output_type": "display_data"
    }
   ],
   "source": [
    "# Visualize the teleportation circuit\n",
    "_ = qml.draw_mpl(superdense, style=\"pennylane\")(message)"
   ]
  },
  {
   "cell_type": "code",
   "execution_count": 9,
   "metadata": {},
   "outputs": [
    {
     "data": {
      "text/plain": [
       "tensor([0., 0., 1., 0.], requires_grad=True)"
      ]
     },
     "execution_count": 9,
     "metadata": {},
     "output_type": "execute_result"
    }
   ],
   "source": [
    "# Execute the protocol\n",
    "superdense(message)"
   ]
  },
  {
   "cell_type": "code",
   "execution_count": null,
   "metadata": {},
   "outputs": [],
   "source": []
  }
 ],
 "metadata": {
  "kernelspec": {
   "display_name": "nptel.venv",
   "language": "python",
   "name": "python3"
  },
  "language_info": {
   "codemirror_mode": {
    "name": "ipython",
    "version": 3
   },
   "file_extension": ".py",
   "mimetype": "text/x-python",
   "name": "python",
   "nbconvert_exporter": "python",
   "pygments_lexer": "ipython3",
   "version": "3.12.3"
  }
 },
 "nbformat": 4,
 "nbformat_minor": 2
}
