{
  "cells": [
    {
      "cell_type": "markdown",
      "metadata": {},
      "source": []
    },
    {
      "cell_type": "code",
      "execution_count": 2,
      "metadata": {
        "id": "nkbrDQQugs0n"
      },
      "outputs": [],
      "source": [
        "# Uncomment the below row\n",
        "\n",
        "# !pip install pennylane"
      ]
    },
    {
      "cell_type": "code",
      "execution_count": 1,
      "metadata": {
        "id": "gaWDnt3vhDyr"
      },
      "outputs": [],
      "source": [
        "import pennylane as qml"
      ]
    },
    {
      "cell_type": "markdown",
      "metadata": {
        "id": "XPuk3L0mkLLh"
      },
      "source": [
        "\n",
        "\n",
        "\n",
        "\n",
        "`In [PennyLane](https://pennylane.ai/), quantum computations, which involve the execution of one or more quantum circuits, are represented as **quantum node** objects. A quantum node is used to declare the quantum circuit, and also ties the computation to a specific device that executes it.`\n",
        "\n",
        "QNodes can interface with any of the supported numerical and machine learning libraries—[NumPy](https://docs.pennylane.ai/en/stable/introduction/interfaces/numpy.html), [PyTorch](https://docs.pennylane.ai/en/stable/introduction/interfaces/torch.html), [TensorFlow](https://docs.pennylane.ai/en/stable/introduction/interfaces/tf.html), and [JAX](https://docs.pennylane.ai/en/stable/introduction/interfaces/jax.html)—indicated by providing an optional interface argument when creating a QNode. Each interface allows the quantum circuit to integrate seamlessly with library-specific data structures (e.g., NumPy and JAX arrays or Pytorch/TensorFlow tensors) and optimizers.\n",
        "\n",
        "By default, QNodes use the NumPy interface. The other PennyLane interfaces are introduced in more detail in the section on interfaces.\n",
        "\n",
        "\n"
      ]
    },
    {
      "cell_type": "code",
      "execution_count": 4,
      "metadata": {
        "id": "b23gOgXpkNzP"
      },
      "outputs": [
        {
          "data": {
            "text/latex": [
              "\n",
              "\\documentclass{standalone}\n",
              "\\usepackage{tikz}\n",
              "\\begin{document}\n",
              "\\begin{tikzpicture}\n",
              "\\draw[thick,->] (0,0) -- (2,0);\n",
              "\\draw[thick,->] (0,0) -- (0,2);\n",
              "\\draw[red,thick] (0,0) -- (1,1);\n",
              "\\end{tikzpicture}\n",
              "\\end{document}\n"
            ],
            "text/plain": [
              "<IPython.core.display.Latex object>"
            ]
          },
          "metadata": {},
          "output_type": "display_data"
        }
      ],
      "source": [
        "qml.about()"
      ]
    },
    {
      "cell_type": "markdown",
      "metadata": {},
      "source": [
        "<p style=\"color:orange;\"> An essential next step is to discuss how quantum computations are actually written down. Quantum computation ultimately requires that these qubits are manipulated and measured in some meaningful way. Still, before that, we need a way of writing down the quantum algorithms and protocols. Ideally, we would do so in such a way that it is portable and not particularly peculiar to any one particular hardware or programming language. Quantum circuits are a visual way of representing the operations successively performed on qubits as the calculation is performed. You could describe a quantum circuit as a recipe or instructions on how to perform something on each qubit and when to perform that operation. Having an operation and being able to place it and run it in a particular order of other operations permits the implementing of various quantum algorithms.</p>"
      ]
    },
    {
      "cell_type": "markdown",
      "metadata": {},
      "source": [
        "<img src="first.png">"
      ]
    },
    {
      "cell_type": "code",
      "execution_count": 1,
      "metadata": {},
      "outputs": [
        {
          "name": "stdout",
          "output_type": "stream",
          "text": [
            "(<Figure size 500x400 with 1 Axes>, <Axes: >)\n"
          ]
        },
        {
          "data": {
            "image/png": "iVBORw0KGgoAAAANSUhEUgAAAgcAAAGjCAYAAAC4xLZeAAAAOXRFWHRTb2Z0d2FyZQBNYXRwbG90bGliIHZlcnNpb24zLjkuMCwgaHR0cHM6Ly9tYXRwbG90bGliLm9yZy80BEi2AAAACXBIWXMAAA9hAAAPYQGoP6dpAABLzElEQVR4nO3de1hU9b4/8PcMyAAqosgltQOCpIF5w3RbipSgpzLyBpk7S1MEUbZZbrGes90791Gh6ylRQVDRygoytpeenaKZYo9tA463QT2AQrpNVNQQuTvr94c/xr4zoDC3NTO8X8/D87S+M/Ndn1kh8561vt/vUkiSJIGIiIjo/1PKXQARERFZF4YDIiIiEjAcEBERkYDhgIiIiAQMB0RERCRgOCAiIiIBwwEREREJGA6IiIhIwHBAREREAoYDIiIiEjAcEBERkYDhgIiIiAQMB0RERCRgOCAiIiIBwwEREREJGA6IiIhIwHBAREREAoYDIiIiEjAcEBERkYDhgIiIiAQMB0RERCRgOCAiIiIBwwEREREJGA6IiIhIwHBAREREAoYDIiIiEjAcEBERkYDhgIiIiAQMB0RERCRgOCAiIiIBwwEREREJGA6IiIhIwHBAREREAoYDIiIiEjAcEBERkYDhgIiIiAQMB0RERCRgOCAiIiIBwwEREREJGA6IiIhIwHBAREREAoYDIiIiEjAcEBERkYDhgIiIiAQMB0RERCRgOCAiIiIBwwEREREJGA6IiIhIwHBAREREAoYDIiIiEjAcEBERkYDhgIiIiAQMB0RERCRgOCAiIiIBwwEREREJGA6IiIhIwHBAREREAoYDIiIiEjAcEBERkYDhgIiIiAQMB0RERCRgOCAiIiIBwwEREREJGA6IiIhIwHBAREREAoYDIiIiEjAcEBERkYDhgIiIiASOchdARETyqq+vx7lz51BcXIySkhJcu3YNdXV1qK+vl7s0gUqlgrOzM3r27Il+/fohMDAQ/v7+UKlUcpdmdxgOiIg6mKamJhw8eBDZ2dnYs2cPysvLIUmS3GUZRKFQwNfXFxMmTEBUVBTGjh0LR0d+tBlLIdnqbwQREbVLSUkJPvjgA2zfvh1Xr16Vuxyz8PT0xNSpU7FkyRIEBATIXY7NYjggIrJzNTU1SEpKQnJyMhoaGuQuxyJUKhWWLl2KZcuWwdXVVe5ybA7DARGRHdu7dy/mzZuH8vLyBz7X29sb/fr1w8MPPwxXV1c4OTlBqbSOcesajQYNDQ2oqanBhQsXUFJSgoqKige+zs/PD2lpaRg/frwFqrQfDAdERHYqJycH0dHRaGpqavHxkJAQREVFITw8HIGBgXBzc7NwhcapqqpCcXEx9u3bh6ysLBQWFrb4PEdHR2RlZWHy5MkWrtB2MRwQEdmh1oKBg4MDEhISkJCQAH9/f5mqM4/S0lKkpKRgzZo1uHPnjvAYA0L7MBwQEdmZvXv34rnnntMLBqGhoVi7di0GDhwoU2Wmk5eXhzFjxrT42KlTp7BgwQIcOnRIaHd0dMS3337LSwxtwHBARGRHampqEBQUpDfGICYmBqmpqVYzhsBQGo0Gb7/9NiorK5Genn7f58XFxek9x8/PD0VFRXBxcTF3qTbNtn9LiIhIkJSUZLfBoLa2Fi+++CKSk5MxatSo+z5XqVQiNTUVMTExQntZWRmSkpLMWaZd4JkDIiI7UVJSgoEDBworG4aGhuLAgQM2HwwqKioQGRmJo0ePAgCKiorw6KOPPvB1Go0GYWFhyMvL07apVCqo1Wqug3Aftv3bQkREWh988IEQDBwcHLB27VqbDwZqtRojR47UBgN3d3f079+/Ta9VKpVYu3YtHBwctG319fV4//33zVKrvbDt3xgiIgJwd0nk7du3C20JCQk2P/hw3759eOKJJ4RLJSNHjmxX4HnssceQkJAgtH3zzTetTvEkhgMiIrtw8OBBvSWRdT8QbU1GRgaeeeYZVFVVCe0PGm/QkoULFwrbV65c0ZvNQPcwHBAR2YHs7GxhOyQkxGbXMdBoNEhMTERMTEyL3+4NCQcBAQEYNmyY0KZ7zOgehgMiIjuwZ88eYTsqKkqmSoxTW1uL6OhovPvuuy0+rlAoMHLkSIP61j0museM7mE4ICKycfX19XrTF8PDw2WqxnAVFRUICwvTGzvxe0FBQejWrZtB/UdERAjb5eXlwgBOuofhgIjIxp07dw66s9IfeeQRmaoxjO6MhNYYckmhWWBgoLCt0Whw/vx5g/uzZwwHREQ2rri4WNj29vZG165dZaqm/XJzc/VmJABAt27d9GYlGBMO3Nzc4OXlJbTpHju6i+GAiMjGlZSUCNv9+vWTqZL2S09Pb3FGgp+fH7KysqDRaIR2Y8IBoH/2gOGgZQwHREQ27tq1a8L2ww8/LFMlbdc8I2HevHl6d1AcOXIkfvrpJ/z2229Ce3sWP2pNnz59hO3Kykqj+rNXjnIXQERExqmrqxO2XV1dZaqkbWpqavDKK6+0OPAwKioKW7ZsgYuLC44cOSI81t7Fj1qie2x0jx3dxXBARGTjdEfcOzk5yVTJg12/fh3PPPNMqwMPfXx8tHdM1A0Hxl5SAO7eV+H3GA5axssKRER2xprvpeDu7o64uDh4enq2+PiaNWugUCiQm5uLwsJC4TFThANrPjbWhEeJiIgsRqlUYvbs2Th79iwWLFjQ6of1+PHj0dDQoN02ZvEjaj+GAyIisrju3bsjJSUF+fn5bXq+MYsfUfsxHBARkWx0ZyS0xhSXFKjtOCCRyAiNjY24desWAKBr167o1KmTzBUR2Q5JkvDUU0+16bkMB5bFcEDUTseOHcOmTZtw5MgRnDhxQntd1MnJCYMGDcKoUaMwZ84cDB48WOZKiSyvrq4ORUVFUKvVuHXrlnY2gLOzM7p27Yrg4GAEBwdDpVJh0aJFLfZRWFiIBQsWCLMVGA4si+GAqI1OnDiBhQsXIi8vr8XHGxoakJ+fj/z8fKxZswZjxoxBSkoKBg0aZOFKiSzn1q1byM7Oxv79+3H8+HGcOXNGb1EjXQ4ODggMDMSZM2f0HispKUFAQAAOHz6MLVu2IDExEY2NjUYvfkTtw3BA9ACSJCE5ORnLly9HY2Njm1+Xl5eH4cOHY8WKFUhMTIRCoTBjlUSWI0kSDh06hM2bNyM7Oxs1NTXtev2dO3daDAaDBw+Gv78/gHuzGiZNmoR//OMfnIJoYTzaRPchSRISEhLw1ltvtSsYNGtsbMRbb72FhIQEvbvmEdmiffv2ITg4GGFhYdiyZUu7g8H9HD9+HMHBwdi3b5+2rXv37pg9e7bJ9kFt0yHCwc8//4xnn30W7u7u6Ny5M/7whz8gKytL7rLIBiQnJ2Pt2rVG97N27VokJyeboCIieVy6dAnTp09HREQETp8+/cDnBwQEIDQ0FBEREYiIiEBoaCgCAgIe+LrTp08jIiICL730En799VdTlE4GsPvLCgcOHMCECRPg7OyM6dOno2vXrti+fTtefPFFXLhwAW+++abcJZKVOnHiBJYvX26y/pYvX45nn32WYxDIpkiShA0bNuDPf/6zdmaOLgcHBzz33HP4z//8TwwePBiPPfZYq7eMjouLQ1pa2gP3++WXX+Lbb7/Fe++9h9jYWKPeAxlAsmONjY1SQECApFKppP/93//Vtt+8eVN65JFHJCcnJ6msrEy+AsmqjRkzRgJg0p8xY8bI/bbIDsXHxwu/Z/Hx8Sbpt7GxUVqwYEGrv88DBgyQ3nvvPenXX39tU383btxosZ/ExERpwIABre5n4cKFUmNjo0nek7mOlb2x68sK33//PUpLSzFjxgwMGTJE296tWze8/fbbaGhowJYtW+QrkKzWsWPHWp2VYIy8vDwcP37c5P0SmVpDQwOio6NbvKzWvXt3pKWlQa1WY8mSJfDx8WlTnw899JBeW2hoKJKSkqBWq5Gamgp3d3e956SkpCA6OlpYTpnMy67DwQ8//ADg7hrduiZMmAAAOHjwoCVLIhuxadMmm+ybyBQaGxsxbdo05OTk6D326quv4syZM5g3b167ZhD88MMPLd4BsXnwoVKpRGxsLM6ePYtXX31V73k5OTmYNm2aQQODqf3sOhwUFxcDAAIDA/Ue8/HxQZcuXbTPIfo93VvF2krfRKbwl7/8Bbt27RLanJycsG3bNmRmZsLLy6td/UmtrISYkZGht6qol5cXMjMz8fnnn+vdenrXrl0mHQdErbPrAYnNa3a3drMONze3Nq/rbS0kSTLp1CHS19jYiBMnTpit/xMnTuC3336Do6Nd//MjCzLlt+nc3Fy9mTWdO3fG7t27ERYWZlCfra2EOGfOnFZfM2PGDPTq1QsTJ07E7du3te3JyckYN24cwsPDDaqF2oZ/nWxMTU0NunTpIncZZIT6+voWr6sSye3KlSuYOXOm0NapUyd89913GD16tEF93rx5E2vWrNFrLykpeeBrw8LC8N133+Hpp5/WBiBJkjBz5kwcP3683WcwqO3s+rJC8xmD1s4OVFVV8RagRET/X1xcHCoqKoS2d9991+BgALQ+CLEtax4AwOjRo/XOZFy+fBnz5883uCZ6MLs+c9A81qC4uBghISHCY5cvX0Z1dTVGjBghR2kGc3V1RXV1tdxl2LXGxkZ4e3ubbWS0SqVCRUUFLyuQySxevBjp6elG9aFWq/UGID777LOtXhJoiwcNQmyrRYsWITc3F//85z+1bd988w2KiooQFBRkcH3UOrv+6zR27FisXr0ae/fuxfTp04XH9uzZo32OLVEoFOjcubPcZdi9QYMGIT8/32x984wVmZIpbhX+4YcfCts9evRAZmamwfcEac8gxAdRKpXIzMzEgAEDcOPGDaHmjIwMg+qj+7Prywrjxo2Dv78/tm3bhmPHjmnbf/vtN6xatQpOTk545ZVX5CuQrJY5bw/LW8+Stbl8+TI+++wzoS0+Ph6enp4G92nIIMT78fLyQnx8vND26aef4vLlywb1R/dn1+HA0dERGRkZ0Gg0CA0Nxbx58/Dmm29i8ODB+L//+z+sWrUKfn5+cpdJVui1116zyb6JDJGWliZcRnNycsLChQsN7s+YQYj3s3DhQmF6Y0NDQ5uWYqb2s+twAABPPfUUDh8+jCeffBJfffUV1q9fD29vb3z55Ze8rwK1asiQIRgzZozJ+x0zZgwGDx5s8n6JjPH9998L2zNnzoS3t7fB/Rk7CLE1Pj4+ePnll4W2AwcOGNUntcyuxxw0GzFihDCQhagtUlJSMHz4cJPNIe/UqZNJ7vBIZEpNTU1642smTZpkcH+mGoTYmkmTJgmrjObn56OpqYkDfE3M7s8cEBlq0KBBWLFihcn6W7FiBR577DGT9UdkCqdOndJbWG3kyJEG9WXKQYit0a3t9u3bUKvVJumb7mE4ILqPxMRELFiwwOh+Fi5ciMTERBNURGRaP/30k7AdEBBg8EBEUw9CbImXlxf8/f2FNt33QMZjOCC6D4VCgTVr1mD16tUGffPp1KkTVq9ejU8++cTgKWFE5vTLL78I20OHDjWoH3MNQmyJbo2674GMx3BA9AAKhQLLli1Dfn5+uwYpjhkzBgUFBVi2bBmDAVmt2tpaYdvQNTjMNQixJbo16r4HMh5HcBC10aBBg3Do0CEcP34cmzZtwpEjR3D8+HHtFDCVSoVBgwZh1KhReO211zgrgWzCm2++ienTp6O2tha1tbXo1atXu/sw9yBEXQkJCZg2bRpcXFzg4uKC3r17m2U/HRnDAVE7DR48GB9//DGAuwtqNd9EqaKigisfks3p06cP+vTpY/DrLTEIUdeQIUMwZMgQs/RNd/GyApERfj99ilOpqCOyxCBEsjyGAyIiMoglByGSZTEcEBGRQSw5CJEsi+GAiIjazdKDEMmyGA6IiOyMRqMxa/9yDEI0FXMfG3vBcEBEZONUKpWw/fs7LJqDLQ9CrK+vF7adnZ1lqsS6MRwQEdk43Q843XslmJKtD0LUPTYMBy1jOCAisnE9e/YUti9cuGC2fdn6IMSLFy8K2x4eHjJVYt0YDoiIbFy/fv2EbXN9iy8qKrL5QYjFxcXCdmBgoEyVWDeGAyIiG6f7AVdRUYGqqiqT7kOSJCxcuFCv3RYGITarqqrClStXhDaGg5YxHBAR2Th/f3+9m3vpfkM2VkNDA4KCgqBU3vvYePLJJ21iEGIz3WOiVCrRt29fmaqxbgwHREQ2TqVSwdfXV2gz9al+lUqFlJQU5OfnY9SoUXBzc8PXX39t0n2YW25urrDt6+urN9OD7mI4ICKyAxMmTBC2s7OzzbKfoUOH4vDhwzhy5Ah8fHzMsg9z0T0museM7mE4ICKyA1FRUcJ2QUEBzp07Z5Z9KZVKBAUFmaVvcyktLUVhYaHQpnvM6B6GAyIiOzB27Fh4enoKbS2tR9BRpaSkCNteXl4IDQ2VqRrrx3BARGQHHB0dMXXqVKFtzZo1OHXqlEwVWY+TJ0/qBaUpU6bwNuv3wXBARGQnlixZIgywu3PnDhYsWNCh7yeg0WiwYMEC3LlzR9umUqmwZMkSGauyfgwHRER2IiAgAEuXLhXaDh06hLi4uA4ZEDQaDeLi4pCXlye0JyYm2syKjnJRSJIkyV0Eka26ffs2unTpAgCorq5G586dZa6IOrqamhoEBQWhvLxcaI+JiUFqaqqwToE9aw4G6enpQrufnx+Kiorg4uIiU2W2oWP8lhARdRCurq7YsGGD3vX09PR0hIWF4eTJkzJVZjknT55EWFiYXjBwdHREWloag0EbMBwQEdmZ8ePHIysrSy8g5OXlYejQoVi8eDFKS0tlqs58SktLsXjxYgwdOlTvUoKjoyOysrIwfvx4maqzLbysQGQEXlYga5aTk4Po6Gg0NTW1+PiwYcMQFRWFiIgIBAYGws3NzcIVGqeqqgrFxcXIzc1Fdna23joGzZqDweTJky1coe1iOCAyAsMBWbu9e/ciNjYWZWVlD3yul5cXAgMD0adPH7i6ukKlUlnNGAWNRoP6+nrU1NTg4sWLKC4u1ruJUkv8/PyQlpbGMwbtxHBAZASGA7IFtbW1SEpKQnJyMurr6+UuxyJUKhUSExOxbNkyjjEwAMMBkREYDsiWlJaW4v3338f27dtx9epVucsxCy8vL0yZMgVLlizhdEUjMBwQGYHhgGxRU1MTDh06hOzsbOzZswdlZWWw1Y8ChUIBPz8/TJgwAVFRUQgNDeXKhybAcEBkBIYDsgf19fU4f/48iouLUVxcjMrKStTV1aGurk7u0gTOzs5wdnaGh4cHAgMDERgYiL59+/K2y2bAcEBkBIYDIrJH1jEMlYiIiKwGwwEREREJGA6IiIhIwHBAREREAoYDIiIiEjAcEBERkYDhgIiIiAQMB0RERCRgOCAiIiIBwwEREREJGA6IiIhIwHBAREREAoYDIiIiEjAcEBERkYDhgIiIiAQMB0RERCRgOCAiIiIBwwEREREJGA6IiIhI4Ch3AUREJK/6+nqcO3cOxcXFKCkpwbVr11BXV4f6+nq5SxOoVCo4OzujZ8+e6NevHwIDA+Hv7w+VSiV3aXaH4YCIqINpamrCwYMHkZ2djT179qC8vBySJMldlkEUCgV8fX0xYcIEREVFYezYsXB05EebsRSSrf5GEFmB27dvo0uXLgCA6upqdO7cWeaKiFpXUlKCDz74ANu3b8fVq1flLscsPD09MXXqVCxZsgQBAQFyl2OzGA6IjMBwQLagpqYGSUlJSE5ORkNDg9zlWIRKpcLSpUuxbNkyuLq6yl2OzWE4IDICwwFZu71792LevHkoLy9/4HO9vb3Rr18/PPzww3B1dYWTkxOUSusYt67RaNDQ0ICamhpcuHABJSUlqKioeODr/Pz8kJaWhvHjx1ugSvvBcEBkBIYDsmY5OTmIjo5GU1NTi4+HhIQgKioK4eHhCAwMhJubm4UrNE5VVRWKi4uxb98+ZGVlobCwsMXnOTo6IisrC5MnT7ZwhbaL4YDICAwHZK1aCwYODg5ISEhAQkIC/P39ZarOPEpLS5GSkoI1a9bgzp07wmMMCO3DcEBkBIYDskZ79+7Fc889pxcMQkNDsXbtWgwcOFCmykwnLy8PY8aMafGxU6dOYcGCBTh06JDQ7ujoiG+//ZaXGNrAOi4mEdkojUbT4n8TyaWmpgbz5s3TCwYxMTE4cOCAzQcDjUaDZcuWYevWra0+Z+DAgThw4ABiYmKE9qamJsTGxqK2ttbcZdo8TgYlaoMbN26gsLAQ+fn5KCgoQEFBAS5duoS6ujrtc9zc3ODs7IxevXohJCQEw4cPR0hICIYNG4bu3bvLWD11JElJSXqDD2NiYpCammo1gwsNVVtbi1deeQVff/01Nm7ceN/nKpVKpKamAgDS09O17WVlZUhKSsI777xj1lptHS8rELXi7NmzWL9+PXbt2oVz584Z1Ze/vz+ef/55zJ8/H/379zdRhUSikpISDBw4UFjZMDQ0FAcOHLD5YFBRUYHIyEgcPXoUAFBUVIRHH330ga/TaDQICwtDXl6etk2lUkGtVnMdhPtgOCD6naamJuzcuRPr1q3D/v37hcf69u0rnBEICAiAJEnaPzClpaVQKBQoLS1FQUGB9izD+fPnhX7GjRuH+Ph4REZGciU3Mqn58+drvy0DdwcfHjt2zOYvJajVajz33HPaMyLu7u6orKxsc+A5efIkhg4dKgxSjIuLw/r1681Sr12QiEiqra2VVq5cKfXu3VsCIAGQlEqlFBkZKe3cuVOqrKxs8XXV1dXa51dXV7f4nMrKSmnnzp1SZGSkpFQqtc/v3bu3tGrVKqmurs6cb406iMbGRsnT01P7+wVAev311+Uuy2i5ubmSm5ub8L4mTJjQ7n5ef/11oQ8vLy+psbHRDBXbB4YD6vD+9a9/SUFBQdo/Gp6entLbb78tlZWVPfC1bQkHv1dWVia9/fbbwh/xoKAg6ejRo6Z4K9SB7du3T/jwAyCVlpbKXZZR0tPTJUdHR7339be//a3dfZWUlOj1s3//fjNUbR9s+yIUkRHq6uqwbNkyjBo1CkVFRfD29sbWrVtx4cIFrFy5Er6+vibfp6+vL1auXIkLFy5g69at8Pb2RlFREf7whz/grbfeEgY4ErVHdna2sB0SEmKz6xhoNBokJiYiJiamxQWcRo0a1e4+AwICMGzYMKFN95jRPQwH1CEdPXoUw4YNQ3JyMjQaDWbMmAG1Wo2ZM2da5PavKpUKM2fOhFqtxowZM6DRaJCUlISQkBDtgCui9tizZ4+wHRUVJVMlxqmtrUV0dDTefffdFh9XKBQYOXKkQX3rHhPdY0b3MBxQh/P1119j9OjROH36NLy9vZGTk4PPP/8cHh4eFq/Fw8MDn3/+OXJycuDl5YWioiKMHj0a27dvt3gtZLvq6+v1pi+Gh4fLVI3hKioqEBYWdt/f/6CgIHTr1s2g/iMiIoTt8vJyYWYH3cNwQB3Kpk2b8OKLL6KxsREvvPAC1Go1Jk2aJHdZmDRpEoqKivDCCy+gsbER0dHR2Lx5s9xlkY04d+4cJJ2JZ4888ohM1RhGrVZj5MiRDzxzZsglhWaBgYHCtkaj0ZtNRHcxHFCHsXnzZsyZMwcajQZz5szB9u3bZTlb0BoPDw9s375dW+Nrr73GgEBtUlxcLGx7e3uja9euMlXTfrm5uXjiiSf0zn5069ZNb7qiMeHAzc0NXl5eQpvusaO7GA6oQ9i+fTvmzp0LAFi0aBHS09Ph4OAgc1X6HBwckJ6ejkWLFgEA5s6di2+++UbmqsjalZSUCNv9+vWTqZL2S09PxzPPPIOqqiqh3c/PD1lZWXrLkhsTDgD9swcMBy1jOCC7d/ToUbz00kvQaDSYO3cuPvroIygUCrnLapVCocBHH32kPYMwffp0/Pzzz3KXRVbs2rVrwvbDDz8sUyVt1zwjYd68eXp3UBw5ciR++ukn/Pbbb0K7u7u70SuM9unTR9iurKw0qj97xXBAdq2urg6zZs3SjjFITU216mDQTKFQIC0tTTsGYdasWZzmSK3S/d1wdXWVqZK2qampaXVGQlRUFA4cOABvb28cOXJEeGzkyJFGLwOte2z476plDAdk19555x3trISNGzda5aWE1jg4OCAjI0M7i2HFihVyl0RWSnfEvZOTk0yVPNj169fx1FNPtTojwcfHBy4uLgCgFw6MvaQAQG+qMsNByxgOyG4dPXpU+80kNTXVqgYftlXPnj21a+UnJyfz8gK1iTXfZMnd3R1xcXHw9PRs8fE1a9ZAoVAgNzcXhYWFwmOmCAfWfGysCY8S2aW6ujrMnj1bu8CRNUxXNNTkyZO1YyZmzZrFedlk05RKJWbPno2zZ89iwYIFrX5Yjx8/Hg0NDdptYxY/ovZjOCC79NFHH2mXRP7kk0/kLsdoa9as0S61/OGHH8pdDpHRunfvjpSUFOTn57fp+cYsfkTtx3BAdqepqQlr164FALz33ns2eTlBl4eHh/YSybp161pcb57IFunOSGiNKS4pUNsxHJDd2blzJ/7973/Dy8sL0dHRcpdjMi+++CI8PT1x8eJF7Nq1S+5yrFJjYyOuX7+O69evo7GxUe5y6AEkScJTTz3VpucyHFiWo9wFEJnaunXrANxdQMgSN1GyFJVKhblz52L16tVYt24dJk+eLHdJVuHYsWPYtGkTjhw5ghMnTmivUzs5OWHQoEEYNWoU5syZg8GDB8tcacdQV1eHoqIiqNVq3Lp1SzsbwNnZGV27dkVwcDCCg4OhUqm0i33pKiwsxIIFC4TZCgwHFib3PaOJTOn06dMSAEmpVEplZWVm3191dbX23vDV1dVm319ZWZmkUCgkANKZM2fMvj9rdvz4cWnMmDHa4/+gnzFjxkjHjx+Xu2yziI+PF95rfHy8xfZdVVUlbdy4UZoxY4YUHBwsOTg4PPD/hYODgzRgwIAWHyspKZEkSZLu3Lkjbdq0SfL09JTc3d2lO3fumKReOY+VLeFlBbIrzdP+Jk6cCF9fX5mrMT1fX19MnDgRALB+/XqZq5GHJElISkrC8OHDkZeX1+bX5eXlYfjw4UhKStK7SRG1jyRJOHjwIGbNmgUfHx/MmTMH27Ztg1qt1lvtsCV37tzBmTNn9NoHDx4Mf39/AOKshg8//JBTEC2MR5vsSvO1+Ob7KNij5ve2e/dumSuxPEmSkJCQgLfeesugMQWNjY146623kJCQwIBgoH379iE4OBhhYWHYsmULampqTNb38ePHERwcjH379mnbunfvjtmzZ5tsH9Q2dh8OPvvsM8TGxmL48OFQqVRQKBTIzMyUuywygxs3buDcuXMAgCeffFLmasyn+b2Vlpbi5s2b8hZjYcnJydqZKMZYu3YtkpOTTVBRx3Hp0iVMnz4dEREROH369AOfHxAQgNDQUERERCAiIgKhoaEICAh44OtOnz6NiIgIvPTSS/j1119NUToZwO7DwX/9139hw4YNKC8vx0MPPSR3OWRGzaup9e3bFz169JC5GvPx8PCAn58fAOitIGfPTpw4geXLl5usv+XLl+PEiRMm689eSZKEtLQ0DBgwAF999VWLz3FwcEBkZCTWrVuHH3/8EVVVVSgpKcHBgwexd+9e7N27FwcPHkRJSQliY2PbtN8vv/wS/fv3R1paminfDrWR3YeDjIwMlJWV4erVq4iLi5O7HDKj5sVUQkJCZK7E/IYPHw4AbV5Axh4sXLjQpNMTGxsbsXDhQpP1Z4+ampqQkJCAuLg43Lp1S+/xAQMG4L333sPFixexY8cOzJ8/H0888QS6du3aYn83b95s8cM+MTERAwYM0Gu/desW4uLikJCQwLU9LMzuw0F4eLhdDkwjfQUFBQDufXDas+YA1Pye7d2xY8faNfiwrfLy8nD8+HGT92sPGhoaEB0d3eJlnO7duyMtLQ1qtRpLliyBj49Pm/ps6extaGgokpKSoFarkZqaCnd3d73npKSkIDo6WlhOmczL7sMBdRzNH5Qd4cxBRwsHmzZtssm+bVVjYyOmTZuGnJwcvcdeffVVnDlzBvPmzWvXDIIffvihxTsgNg8+VCqViI2NxdmzZ/Hqq6/qPS8nJwfTpk3j4lYWwnBAduPSpUsA0KZBT7auX79+AO69Z3une+teW+nbVv3lL3/RW4XTyckJ27ZtQ2ZmJry8vNrVn9TKSogZGRno1KmT0Obl5YXMzEx8/vnneree3rVrl0nHnVDruEKijZEkyaRTh+yFRqPRfiuRJAm3b9+2yH5/vx9L7ROAdhpebW0tbt26ZddzwBsbG806cPDEiRP47bff4Ohou38OTfltOjc3V28mR+fOnbF7926EhYUZ1GdrKyHOmTOn1dfMmDEDvXr1wsSJE4V/W8nJyRg3bhzCw8MNqoXaxnb/NXRQNTU16NKli9xlWDW5zhx4e3vLsl83NzdZ9msv6uvrW7zO3RFduXIFM2fOFNo6deqE7777DqNHjzaoz5s3b2LNmjV67SUlJQ98bVhYGL777js8/fTT2gAkSRJmzpyJ48ePt/sMBrWd/X7dICKidomLi0NFRYXQ9u677xocDIDWByG2NcSPHj1a70zG5cuXMX/+fINrogfjmQMb4+rqiurqarnLsDoajUb7Dbq0tNRi3+Jv376t3VdFRQU6d+5skf1WVFRo/7hWVVXZ/WUFb29vs41UV6lUqKiosOnLCosXL0Z6erpRfajVar0BiM8++2yrlwTa4kGDENtq0aJFyM3NxT//+U9t2zfffIOioiIEBQUZXB+1znb/NXRQCoXCYh9AtsbZ2Rl1dXWyHaPOnTtbbL8KhQIA4OLi0uqccnsyaNAgs63pMGjQIHTr1s0sfVuK7qA+Q3z44YfCdo8ePZCZman9XWuv9gxCfBClUonMzEwMGDAAN27cEGrOyMgwqD66P/v9ukEdTq9evQDcPXNg75qv1za/Z3tnztv18lbAd0/Tf/bZZ0JbfHw8PD09De7TkEGI9+Pl5YX4+Hih7dNPP8Xly5cN6o/uz+7DQUZGBmbNmoVZs2YhOztbr42p0350pLn/HWlNBwB47bXXbLJvW5GWliZctnFycjJq9UhjBiHez8KFC4XpjQ0NDVxe2UzsPhwcPnwYW7ZswZYtW7Tr0P/444/atsOHD8tcIZlK8wdlR1hSuKOFgyFDhmDMmDEm73fMmDEYPHiwyfu1Nd9//72wPXPmTKPG7Rg7CLE1Pj4+ePnll4W2AwcOGNUntczuw0FmZiYkSWr1h3dotB/NyyZ3hDMHzQGoIywV3SwlJcUk19abderUySR3eLR1TU1NeoF60qRJBvdnqkGIrdGtLT8/n/ddMAO7DwfUcQwbNgwAcP78eVy/fl3masynsrISZWVlAO69545g0KBBWLFihcn6W7FiBR577DGT9WerTp06pbew2siRIw3qy5SDEFujW9vt27ehVqtN0jfdw3BAdqN79+7w9/cHcPfSkb1qfm8BAQEdbvGexMRELFiwwOh+Fi5ciMTERBNUZPt++uknYTsgIMDggYimHoTYEi8vL+2/82a674GMx3BAduX5558HALseaNr83iZOnChzJZanUCiwZs0arF692qBvop06dcLq1avxySefGDxFz9788ssvwvbQoUMN6sdcgxBboluj7nsg4zEckF1pXjVt9+7dKC8vl7ka0ysrK8Pu3bsBoMOuEKdQKLBs2TLk5+e3a5DimDFjUFBQgGXLljEY/E5tba2wbeiaD+YahNgS3Rp13wMZj4sgkV3p378/xo0bh/3792PDhg1YuXKl3CWZ1IYNGyBJEsLDw9G/f3+5y5HVoEGDcOjQIRw/fhybNm3CkSNHcPz4ce2UPJVKhUGDBmHUqFF47bXXOCuhFW+++SamT5+O2tpa1NbWGrR2hrkHIepKSEjAtGnT4OLiAhcXF/Tu3dss++nIGA7I7sTHx2P//v3IyMjA8uXLoVKp5C7JJOrr67WXFHQXg+nIBg8ejI8//hgA8Ntvv2nHYVRUVNj8yoeW0KdPH/Tp08fg11tiEKKuIUOGYMiQIWbpm+7iZQWyO5GRkejduzeuXLmCrKwsucsxma+++gpXr15Fnz59tGMrSPT7+yPY8r0SbIklBiGS5TEckN1xdHTUjmj/85//jMrKSpkrMl5lZSWWLl0K4O5ZA37wkTWw5CBEsiyGA7JLb7zxBoKCglBRUYE//elPcpdjtISEBFRUVCAoKAhvvPGG3OUQAbDsIESyLIYDsksqlQqbN2+GUqnEtm3b8I9//EPukgyWk5ODL774Ag4ODsjMzLSbMRRk2yw9CJEsi+GA7NaIESO0p+Lj4uJs8vLCtWvXEBcXBwBYunQpHn/8cZkrIlug0WjM2r8cgxBNxdzHxl4wHJBd++tf/6q9vDBnzhzcuXNH7pLa7M6dO5g7dy6uXLmCoKAg/PWvf5W7JLJSumeTfn+HRXOw5UGI9fX1wrazs7NMlVg3hgOya87Ozti8eTM6deqEHTt2IDY2FpIkyV3WA0mShNjYWOzYsQNOTk68nED3pfsBp3uvBFOy9UGIuseG4aBlDAdk90aMGIEvvvgCSqUSGzduxOLFi606IEiShMWLF2Pjxo1QKpX44osveDmB7qtnz57C9oULF8y2L1sfhHjx4kVh28PDQ6ZKrBvDAXUIU6dO1S4g9PHHHyMmJsYqLzE0X0poXtRn48aNmDJlisxVkbXr16+fsG2ub/FFRUU2PwixuLhY2A4MDJSpEuvGcEAdxuzZs7Fp0ybtGYSpU6da1SDFa9euYerUqdoaN2/ejFmzZsldFtkA3Q+4iooKVFVVmXQfkiRh4cKFeu22MAixWVVVFa5cuSK0MRy0jOGAOpTZs2cjKytLOwYhKCgIOTk5cpeFnJwcBAcHY8eOHejUqROys7MZDKjN/P399W4mpfsN2VgNDQ0ICgqCUnnvY+PJJ5+0iUGIzXSPiVKpRN++fWWqxroxHFCHM3XqVBw+fBiPPvoorly5gilTpuCPf/yjLGcRKisrMWPGDEyZMkU7K+HHH3/kpQRqF5VKBV9fX6HN1Kf6VSoVUlJSkJ+fj1GjRsHNzQ1ff/21Sfdhbrm5ucK2r68vB/q2guGAOqQRI0agsLAQy5Yt0y6UFBwcjK1bt+pNdTKH+vp6bN26FcHBwdrBkm+99RYKCgo4+JAMMmHCBGE7OzvbLPsZOnQoDh8+jCNHjsDHx8cs+zAX3WOie8zoHoVkzcO2iSzg559/xqxZs1BUVAQA8PT0xNy5cxEbG6v3bUzX7du30aVLFwBAdXU1OnfufN/nl5eXIy0tDRkZGbh69SoAICgoCJmZmQwFJtDe/x/2ZP/+/QgPDxfaSktL4e/vL1NF1qW0tFRv4Ob+/fvx9NNPy1SRdeOZA+rwHn/8cRQUFGDVqlXo3bs3rl69itWrV8Pf3x+RkZHYuXMnrl+/bnD/169fx86dOxEZGYm+ffti9erV2rsrrlq1CoWFhQwGZLSxY8fC09NTaGtpPYKOKiUlRdj28vJCaGioTNVYP545IPqdpqYm7Nq1C+vWrdO7Zuvn54fhw4cjJCQEISEh6NevHyRJ0s7vLi0thUKhQElJCQoKClBQUID8/HyUlZUJ/YSHhyM+Ph7PP/88765oYh35zAEAzJ8/H6mpqdptBwcHHDt2DAMHDpSxKvmdPHkSQ4cOFaYvx8XFYf369TJWZd0YDohacfbsWaxfvx67d+9GaWmpUX0FBARg4sSJmD9/Pvr372+iCklXRw8HpaWlCA4OFsbNhIaG4sCBA8Isg45Eo9EgLCwMeXl52jaVSgW1Wm0zCzfJgeGAqA1u3ryJwsJC5Ofna88KXLp0CbW1tcLzXFxc0KtXL4SEhGjPMgwbNgzu7u7yFN7BdPRwAADLly/H3//+d6EtJiYGqampHS4gaDQaxMXFIT09XWhfvnw53nnnHZmqsg0MB0RG0Gg0uHnzJgDA3d29w/3xtTYMB3fvHRAUFITy8nKhvaMFhNaCgZ+fH4qKiuDi4iJTZbahY/yWEJmJUqlEjx490KNHjw7zR5esm6urKzZs2KA3niU9PR1hYWE4efKkTJVZzsmTJxEWFqYXDBwdHZGWlsZg0Ab8a0ZEZGfGjx+PrKwsvYCQl5eHoUOHYvHixUaPo7FGpaWlWLx4MYYOHSqMMQDuBoOsrCyMHz9epupsCy8rEJHd4GUFUU5ODqKjo9HU1NTi48OGDUNUVBQiIiIQGBgINzc3C1donKqqKhQXFyM3NxfZ2dkoLCxs8XnNwWDy5MkWrtB2MRwQkd1gONC3d+9exMbG6k2pbYmXlxcCAwPRp08fuLq6QqVSWc3lMo1Gg/r6etTU1ODixYsoLi7Wu4lSS/z8/JCWlsYzBu3EcEBEdoPhoGW1tbVISkpCcnKyRZYHtwYqlQqJiYlYtmwZxxgYgOGAiOwGw8H9lZaW4v3338f27du1y3fbGy8vL0yZMgVLlizhOgZGYDggIrvBcNA2TU1NOHToELKzs7Fnzx6UlZXBVj8KFAoF/Pz8MGHCBERFRSE0NJQrj5oAwwER2Q2GA8PU19fj/PnzKC4uRnFxMSorK1FXV4e6ujq5SxM4OzvD2dkZHh4eCAwMRGBgIPr27cvbLpsBwwER2Q2GAyLTsI5hqERERGQ1GA6IiIhIwHBAREREAoYDIiIiEjAcEBERkYDhgIiIiAQMB0RERCRgOCAiIiIBwwEREREJGA6IiIhIwHBAREREAoYDIiIiEjAcEBERkYDhgIiIiAQMB0RERCRgOCAiIiIBwwEREREJGA6IiIhIwHBAREREAke5CyAiInnV19fj3LlzKC4uRklJCa5du4a6ujrU19fLXZpApVLB2dkZPXv2RL9+/RAYGAh/f3+oVCq5S7M7DAdERB1MU1MTDh48iOzsbOzZswfl5eWQJEnusgyiUCjg6+uLCRMmICoqCmPHjoWjIz/ajKWQbPU3gohIx+3bt9GlSxcAQHV1NTp37ixzRdalpKQEH3zwAbZv346rV6/KXY5ZeHp6YurUqViyZAkCAgLkLsdmMRwQkd1gOGhZTU0NkpKSkJycjIaGBrnLsQiVSoWlS5di2bJlcHV1lbscm8NwQER2g+FA3969ezFv3jyUl5c/8Lne3t7o168fHn74Ybi6usLJyQlKpXWMW9doNGhoaEBNTQ0uXLiAkpISVFRUPPB1fn5+SEtLw/jx4y1Qpf1gOCAiu8FwIMrJyUF0dDSamppafDwkJARRUVEIDw9HYGAg3NzcLFyhcaqqqlBcXIx9+/YhKysLhYWFLT7P0dERWVlZmDx5soUrtF0MB0RkNxgO7mktGDg4OCAhIQEJCQnw9/eXqTrzKC0tRUpKCtasWYM7d+4IjzEgtA/DARHZDYaDu/bu3YvnnntOLxiEhoZi7dq1GDhwoEyVmU5eXh7GjBnT4mOnTp3CggULcOjQIaHd0dER3377LS8xtIF1XEwiIjIBjUbT4n93JDU1NZg3b55eMIiJicGBAwdsPhhoNBosW7YMW7dubfU5AwcOxIEDBxATEyO0NzU1ITY2FrW1teYu0+ZxMigR2ZwbN26gsLAQ+fn5KCgoQEFBAS5duoS6ujrtc9zc3ODs7IxevXohJCQEw4cPR0hICIYNG4bu3bvLWL15JSUl6Q0+jImJQWpqqtUMLjRUbW0tXnnlFXz99dfYuHHjfZ+rVCqRmpoKAEhPT9e2l5WVISkpCe+8845Za7V1vKxARDbh7NmzWL9+PXbt2oVz584Z1Ze/vz+ef/55zJ8/H/379zdRhfIrKSnBwIEDhZUNQ0NDceDAAZsPBhUVFYiMjMTRo0cBAEVFRXj00Ucf+DqNRoOwsDDk5eVp21QqFdRqNddBuA+GAyKyWk1NTdi5cyfWrVuH/fv3C4/17dtXOCMQEBAASZK0f/BLS0uhUChQWlqKgoIC7VmG8+fPC/2MGzcO8fHxiIyMtPmV9ebPn6/9tgzcHXx47Ngxm7+UoFar8dxzz2nPiLi7u6OysrLNgefkyZMYOnSoMEgxLi4O69evN0u9dkEiIrIytbW10sqVK6XevXtLACQAklKplCIjI6WdO3dKlZWVLb6uurpa+/zq6uoWn1NZWSnt3LlTioyMlJRKpfb5vXv3llatWiXV1dWZ862ZTWNjo+Tp6al9PwCk119/Xe6yjJabmyu5ubkJ72vChAnt7uf1118X+vDy8pIaGxvNULF9YDggIqvyr3/9SwoKCtL+Eff09JTefvttqays7IGvbUs4+L2ysjLp7bffFj5Ug4KCpKNHj5rirVjUvn37hA8/AFJpaancZRklPT1dcnR01Htff/vb39rdV0lJiV4/+/fvN0PV9sG2L0IRkd2oq6vDsmXLMGrUKBQVFcHb2xtbt27FhQsXsHLlSvj6+pp8n76+vli5ciUuXLiArVu3wtvbG0VFRfjDH/6At956SxjgaO2ys7OF7ZCQEJtdx0Cj0SAxMRExMTEtLuA0atSodvcZEBCAYcOGCW26x4zuYTggItkdPXoUw4YNQ3JyMjQaDWbMmAG1Wo2ZM2da5Ha8KpUKM2fOhFqtxowZM6DRaJCUlISQkBDtADhrt2fPHmE7KipKpkqMU1tbi+joaLz77rstPq5QKDBy5EiD+tY9JrrHjO5hOCAiWX399dcYPXo0Tp8+DW9vb+Tk5ODzzz+Hh4eHxWvx8PDA559/jpycHHh5eaGoqAijR4/G9u3bLV5Le9TX1+tNXwwPD5epGsNVVFQgLCzsvsc7KCgI3bp1M6j/iIgIYbu8vFyY2UH3MBwQkWw2bdqEF198EY2NjXjhhRegVqsxadIkucvCpEmTUFRUhBdeeAGNjY2Ijo7G5s2b5S6rVefOnYOkM/HskUcekakaw6jVaowcOfKBZ2oMuaTQLDAwUNjWaDR6s1foLoYDIpLF5s2bMWfOHGg0GsyZMwfbt2+X5WxBazw8PLB9+3Ztja+99prVBoTi4mJh29vbG127dpWpmvbLzc3FE088oXf2o1u3bnrTFY0JB25ubvDy8hLadI8d3cVwQEQWt337dsydOxcAsGjRIqSnp8PBwUHmqvQ5ODggPT0dixYtAgDMnTsX33zzjcxV6SspKRG2+/XrJ1Ml7Zeeno5nnnkGVVVVQrufnx+ysrL0lsE2JhwA+mcPGA5axnBARBZ19OhRvPTSS9BoNJg7dy4++ugjKBQKuctqlUKhwEcffaQ9gzB9+nT8/PPPcpcluHbtmrD98MMPy1RJ2zXPSJg3b57eHRRHjhyJn376Cb/99pvQ7u7ubvSKln369BG2KysrjerPXjEcEJHF1NXVYdasWdoxBqmpqVYdDJopFAqkpaVpxyDMmjXLqqY56tbi6uoqUyVtU1NT0+qMhKioKBw4cADe3t44cuSI8NjIkSONXgZa99hY0/9Ha8JwQEQW884772hnJWzcuNEqLyW0xsHBARkZGdpZDCtWrJC7JC3dEfdOTk4yVfJg169fx1NPPdXqjAQfHx+4uLgAgF44MPaSAgC9qbEMBy1jOCAiizh69Kj2m2JqaqpVDT5sq549e2rvXZCcnGx1lxeaWfNNltzd3REXFwdPT88WH1+zZg0UCgVyc3NRWFgoPGaKcGDNx8aa8CgRkdnV1dVh9uzZ2gWOrGG6oqEmT56sHTMxa9YszpNvJ6VSidmzZ+Ps2bNYsGBBqx/W48ePR0NDg3bbmMWPqP0YDojI7D766CPtksiffPKJ3OUYbc2aNdqllj/88EO5y7FJ3bt3R0pKCvLz89v0fGMWP6L2YzggIrNqamrC2rVrAQDvvfeeTV5O0OXh4aG9RLJu3boW1/+nttGdkdAaU1xSoLZjOCAis9q5cyf+/e9/w8vLC9HR0XKXYzIvvvgiPD09cfHiRezatUvucmySJEl46qmn2vRchgPLcpS7ACKyb+vWrQNwdwEhS9xEyVJUKhXmzp2L1atXY926dZg8ebLcJVmFuro6FBUVQa1W49atW9rZAM7OzujatSuCg4MRHBwMlUqlXVxKV2FhIRYsWCDMVmA4sCyGAyIymzNnzmD//v1QKpWYN2+e3OWYXGxsLJKSkrBv3z6cPXvW6AV6bNGtW7eQnZ2N/fv34/jx4zhz5ozeoka6HBwcEBgYiDNnzug9VlJSgoCAABw+fBhbtmxBYmIiGhsbO+SxlRMvKxCR2TRP+5s4cSJ8fX1lrsb0fH19MXHiRADA+vXrZa7GciRJwsGDBzFr1iz4+Phgzpw52LZtG9Rq9QODAQDcuXOnxWAwePBg+Pv7AxBnNXz44YecgmhhPNpEZDbN1+Kb76Ngj5rf2+7du2WuxDL27duH4OBghIWFYcuWLaipqTFZ38ePH0dwcDD27dunbevevTtmz55tsn1Q29h1OPj3v/+N//mf/8H48ePxH//xH3BycoKPjw+mTp2Kf/3rX3KXR2TXbty4gXPnzgEAnnzySZmrMZ/m91ZaWoqbN2/KW4wZXbp0CdOnT0dERAROnz79wOcHBAQgNDQUERERiIiIQGhoKAICAh74utOnTyMiIgIvvfQSfv31V1OUTgaw63CwZs0aLF68GOfOncP48ePx5ptvYvTo0dixYweeeOIJfPXVV3KXSGS3mle369u3L3r06CFzNebj4eEBPz8/ANBb0c8eSJKEtLQ0DBgwoNW/mQ4ODoiMjMS6devw448/oqqqCiUlJTh48CD27t2LvXv34uDBgygpKUFsbGyb9vvll1+if//+SEtLM+XboTay6wGJI0aMwA8//ICxY8cK7Xl5eRg3bhzmz5+PSZMm2dUIaiJr0by4TUhIiMyVmN/w4cNRVlaG/Px8PP3003KXYzJNTU14/fXXtetU6BowYADmzJmDl19+GT4+Pg/s7+bNmy1+2CcmJmLHjh164xBu3bqFuLg4nDp1Ch999BEcHe36I8uq2PWZgylTpugFAwAYM2YMnnrqKdy4cQMnT56UoTIi+1dQUADg7genvWsOQM3v2R40NDQgOjq6xWDQvXt3pKWlQa1WY8mSJW0KBgDw0EMP6bWFhoYiKSkJarUaqampcHd313tOSkoKoqOjheWUybzsOhzcT6dOnQCASZTITJo/KDvCmQN7CweNjY2YNm0acnJy9B579dVXcebMGcybN69dMwh++OGHFu+A2Dz4UKlUIjY2FmfPnsWrr76q97ycnBxMmzYNjY2N7XgnZKgOGQ5++eUX7Nu3Dw899BAee+wxucshskuXLl0CgDYNQrN1/fr1A3DvPdu6v/zlL3qrPjo5OWHbtm3IzMyEl5dXu/prbSXEjIwM7Re1Zl5eXsjMzMTnn3+ud+vpXbt2Yfny5e3aNxmmw31tbmxsxMyZM1FfX4/k5GSbup88cPcfmSmnDhGZg0aj0X5LlCQJt2/ftsh+f78fS+0TuPseAaC2tha3bt2y+Jx8U36bzs3NRXJystDWuXNn7N69G2FhYQb12dpKiHPmzGn1NTNmzECvXr0wceJE4f9lcnIyxo0bh/DwcINqoTaSOpA7d+5IM2bMkABIMTExcpdjkOrqagkAf/jDH/60+hMfH2/Q35eKigrJ29tb6KtTp05SXl6ewX+zbty40WKNJSUlbXp9Xl6e1KlTJ+G1Pj4+UkVFhUH1xMfHm+RY2bsOc1lBo9Hgtddew7Zt2/Dyyy9rV24jIqK74uLiUFFRIbS9++67GD16tMF9tjYIsa2Xm0aPHq13JuPy5cuYP3++wTXRg3WIywoajQazZ8/G1q1b8dJLLyEzM9Nml+J0dXVFdXW13GUQ3ZdGo4GbmxuAu4sDeXt7W2S/t2/f1u6roqICnTt3tsh+KyoqtB92VVVVFv/7snjxYqSnpxvVh1qt1huA+Oyzz7Z6SaAtHjQIsa0WLVqE3Nxc/POf/9S2ffPNNygqKkJQUJDB9VHr7D4c/D4YvPjii/j0009tbpzB7ykUCov9wSMyhrOzM+rq6mT7ne3cubPF9qtQKAAALi4u6Nq1q0X2+Xu6g/oM8eGHHwrbPXr0QGZmpva9tZfUjkGID6JUKpGZmYkBAwbgxo0bQs0ZGRkG1Uf3Z5tfn9uo+VLC1q1bERUVhc8++8ymgwGRLenVqxeAu2cO7F1JSQmAe+/Z1ly+fBmfffaZ0BYfHw9PT0+D+zRkEOL9eHl5IT4+Xmj79NNPcfnyZYP6o/uz6zMHK1aswJYtW9ClSxc88sgj+O///m+950yaNAlDhgyxfHFEdi4kJATnzp1DQUGB3Y8st/U1HdLS0oQFhpycnLBw4UKD+7t58ybWrFmj194cogy1cOFCvPfee9paGxoakJaWhr/+9a9G9Uv67DoclJWVAQCqq6uxcuXKFp/j5+fHcEBkBiEhIcjOztYuo2zPbD0cfP/998L2zJkzjRonYuwgxNb4+Pjg5ZdfxqZNm7RtBw4cYDgwA7u+rJCZmQlJku77M2vWLLnLJLJLzcsm28uqgffTHIBscanopqYmvQA3adIkg/sz1SDE1ujWlp+fj6amJpP0TffYdTggIvkMGzYMAHD+/Hlcv35d5mrMp7KyUnuWsvk925JTp07pLaw2cuRIg/oy5SDE1ujWdvv2bajVapP0TfcwHBCRWXTv3h3+/v4AgB9//FHmasyn+b0FBAS0eNMga/fTTz8J2wEBAQYPRDT1IMSWeHl5aX+vmum+BzIewwERmc3zzz8PAHY93az5vU2cOFHmSgzzyy+/CNtDhw41qB9zDUJsiW6Nuu+BjMdwQERm07yK3e7du1FeXi5zNaZXVlaG3bt3A4DNrthXW1srbHfr1s2gfsw1CLElujXqvgcynl3PViAiefXv3x/jxo3D/v37sWHDhlZnDdmqDRs2QJIkhIeHo3///nKXY5A333wT06dPR21tLWpraw1aq8HcgxB1JSQkYNq0aXBxcYGLiwt69+5tlv10ZAwHRGRW8fHx2L9/PzIyMrB8+XKoVCq5SzKJ+vp67SUF3cV5bEmfPn3Qp08fg19viUGIuoYMGcIp6GbGywpEZFaRkZHo3bs3rly5gqysLLnLMZmvvvoKV69eRZ8+fbRjKzoiSwxCJMtjOCAis3J0dMSCBQsAAH/+859RWVkpc0XGq6ysxNKlSwHcPWvg6NgxT8JachAiWRbDARGZ3RtvvIGgoCBUVFTgT3/6k9zlGC0hIQEVFRUICgrCG2+8IXc5srHkIESyLIYDIjI7lUqFzZs3Q6lUYtu2bfjHP/4hd0kGy8nJwRdffAEHBwdkZmbazRiK9rL0IESyLIYDIrKIESNGaE/Fx8XF2eTlhWvXriEuLg4AsHTpUjz++OMyV9QyjUZj1v7lGIRoKuY+NvaC4YCILOavf/2r9vLCnDlzcOfOHblLarM7d+5g7ty5uHLlCoKCgqzqZj+6Zy9+f4dFc7DlQYj19fXCtrOzs0yVWDeGAyKyGGdnZ2zevBmdOnXCjh07EBsbC0mS5C7rgSRJQmxsLHbs2AEnJyeru5yg+wGne68EU7L1QYi6x4bhoGUMB0RkUSNGjMAXX3wBpVKJjRs3YvHixVYdECRJwuLFi7Fx40YolUp88cUXVnc5oWfPnsL2hQsXzLYvWx+EePHiRWHbw8NDpkqsG8MBEVnc1KlTtQsIffzxx4iJibHKSwzNlxI+/vhjAMDGjRsxZcoUmavS169fP2HbXN/ii4qKbH4QYnFxsbAdGBgoUyXWjeGAiGQxe/ZsbNq0SXsGYerUqVY1SPHatWuYOnWqtsbNmzdj1qxZcpfVIt0PuIqKClRVVZl0H5IkYeHChXrttjAIsVlVVRWuXLkitDEctIzhgIhkM3v2bGRlZWnHIAQFBSEnJ0fuspCTk4Pg4GDs2LEDnTp1QnZ2ttUGAwDw9/eHQqEQ2nS/IRuroaEBQUFBUCrvfWw8+eSTNjEIsZnuMVEqlejbt69M1Vg3hgMiktXUqVNx+PBhPProo7hy5QqmTJmCP/7xj7KcRaisrMSMGTMwZcoU7ayEH3/80SovJfyeSqWCr6+v0GbqU/0qlQopKSnIz8/HqFGj4Obmhq+//tqk+zC33NxcYdvX19eqBpZaE4YDIpLdiBEjUFhYiGXLlmkXSgoODsbWrVv1pp6ZQ319PbZu3Yrg4GDtYMm33noLBQUFVjf4sDUTJkwQtrOzs82yn6FDh+Lw4cM4cuQIfHx8zLIPc9E9JrrHjO5RSNY8TJiIOpyff/4Zs2bNQlFREQDA09MTc+fORWxsrN63Y123b99Gly5dAADV1dXo3LnzfZ9fXl6OtLQ0ZGRk4OrVqwCAoKAgZGZm2kwoaLZ//36Eh4cLbaWlpfD395epIutSWlqqN3Bz//79ePrpp2WqyLrxzAERWZXHH38cBQUFWLVqFXr37o2rV69i9erV8Pf3R2RkJHbu3Inr168b3P/169exc+dOREZGom/fvli9erX27oqrVq1CYWGhzQUDABg7diw8PT2FtpbWI+ioUlJShG0vLy+EhobKVI3145kDIrJaTU1N2LVrF9atW6d3Dd3Pzw/Dhw9HSEgIQkJC0K9fP0iSpJ1vX1paCoVCgZKSEhQUFKCgoAD5+fkoKysT+gkPD0d8fDyef/55m7+74vz585GamqrddnBwwLFjxzBw4EAZq5LfyZMnMXToUGG6bFxcHNavXy9jVdaN4YCIbMLZs2exfv167N69G6WlpUb1FRAQgIkTJ2L+/Pno37+/iSqUX2lpKYKDg4VxGqGhoThw4IAwy6Aj0Wg0CAsLQ15enrZNpVJBrVbbzMJNcmA4ICKbc/PmTRQWFiI/P197VuDSpUuora0Vnufi4oJevXohJCREe5Zh2LBhcHd3l6dwC1i+fDn+/ve/C20xMTFITU3tcAFBo9EgLi4O6enpQvvy5cvxzjvvyFSVbWA4ICK7odFocPPmTQCAu7t7h/swBO7eOyAoKAjl5eVCe0cLCK0FAz8/PxQVFcHFxUWmymxDx/gtIaIOQalUokePHujRo0eH+RDU5erqig0bNuiNn0hPT0dYWBhOnjwpU2WWc/LkSYSFhekFA0dHR6SlpTEYtEHH/NdDRGTHxo8fj6ysLL2AkJeXh6FDh2Lx4sVGj9uwRqWlpVi8eDGGDh0qjDEA7gaDrKwsjB8/XqbqbAsvKxAR2amcnBxER0ejqampxceHDRuGqKgoREREIDAwEG5ubhau0DhVVVUoLi5Gbm4usrOzUVhY2OLzmoPB5MmTLVyh7WI4ICKyY3v37kVsbKzeFM6WeHl5ITAwEH369IGrqytUKpXVXJ7RaDSor69HTU0NLl68iOLiYr2bKLXEz88PaWlpPGPQTgwHRER2rra2FklJSUhOTrbIctTWQKVSITExEcuWLeMYAwMwHBARdRClpaV4//33sX37du1y0fbGy8sLU6ZMwZIlS7iOgREYDoiIOpimpiYcOnQI2dnZ2LNnD8rKymCrHwUKhQJ+fn6YMGECoqKiEBoaavMrXVoDhgMiog6uvr4e58+fR3FxMYqLi1FZWYm6ujrU1dXJXZrA2dkZzs7O8PDwQGBgIAIDA9G3b1/edtkMGA6IiIhIYB3DUImIiMhqMBwQERGRgOGAiIiIBAwHREREJGA4ICIiIgHDAREREQkYDoiIiEjAcEBEREQChgMiIiISMBwQERGRgOGAiIiIBAwHREREJGA4ICIiIgHDAREREQkYDoiIiEjAcEBEREQChgMiIiISMBwQERGRgOGAiIiIBAwHREREJGA4ICIiIgHDAREREQkYDoiIiEjAcEBEREQChgMiIiISMBwQERGRgOGAiIiIBAwHREREJGA4ICIiIgHDAREREQkYDoiIiEjAcEBEREQChgMiIiISMBwQERGRgOGAiIiIBAwHREREJGA4ICIiIgHDAREREQkYDoiIiEjAcEBEREQChgMiIiISMBwQERGRgOGAiIiIBAwHREREJGA4ICIiIgHDAREREQkYDoiIiEjAcEBEREQChgMiIiISMBwQERGRgOGAiIiIBAwHREREJGA4ICIiIgHDAREREQkYDoiIiEjAcEBEREQChgMiIiISMBwQERGRgOGAiIiIBAwHREREJGA4ICIiIgHDAREREQkYDoiIiEjAcEBEREQChgMiIiISMBwQERGRgOGAiIiIBAwHREREJGA4ICIiIsH/Ayek3NaIgxJLAAAAAElFTkSuQmCC",
            "text/plain": [
              "<Figure size 500x400 with 1 Axes>"
            ]
          },
          "metadata": {},
          "output_type": "display_data"
        }
      ],
      "source": [
        "import pennylane as qml\n",
        "from pennylane import numpy as np\n",
        "\n",
        "# Define the device\n",
        "dev = qml.device('default.qubit', wires=3)\n",
        "\n",
        "# Define the quantum function\n",
        "@qml.qnode(dev)\n",
        "def circuit():\n",
        "    # Apply CNOT gate between qubit 0 and qubit 1\n",
        "    qml.CNOT(wires=[0, 1])\n",
        "    \n",
        "    # Apply CNOT gate between qubit 1 and qubit 2\n",
        "    qml.CNOT(wires=[1, 2])\n",
        "    \n",
        "    # Return the state\n",
        "    return qml.state()\n",
        "\n",
        "# Draw the circuit\n",
        "print(qml.draw_mpl(circuit)())\n"
      ]
    },
    {
      "cell_type": "code",
      "execution_count": null,
      "metadata": {},
      "outputs": [],
      "source": []
    },
    {
      "cell_type": "code",
      "execution_count": null,
      "metadata": {},
      "outputs": [],
      "source": []
    },
    {
      "cell_type": "code",
      "execution_count": null,
      "metadata": {},
      "outputs": [],
      "source": []
    },
    {
      "cell_type": "code",
      "execution_count": null,
      "metadata": {
        "colab": {
          "base_uri": "https://localhost:8080/"
        },
        "id": "ggz4XXk-u18u",
        "outputId": "f3da9f3c-2f19-4944-d5a2-7fede1a69897"
      },
      "outputs": [
        {
          "name": "stdout",
          "output_type": "stream",
          "text": [
            "True\n"
          ]
        }
      ],
      "source": [
        "# To check the given operator is unitary or not\n",
        "\n",
        "#EXAMPLE\n",
        "\n",
        "op = qml.RX(0.54, wires=0)\n",
        "print(qml.is_unitary(op))\n",
        "\n",
        "# Exercise :\n",
        "op2 = op + op\n",
        "qml.is_unitary(op2)"
      ]
    },
    {
      "cell_type": "code",
      "execution_count": null,
      "metadata": {
        "colab": {
          "base_uri": "https://localhost:8080/"
        },
        "collapsed": true,
        "id": "nbAcWnglt6vh",
        "outputId": "5f78c044-fb07-497f-94a5-d9961f5d6175"
      },
      "outputs": [
        {
          "data": {
            "text/plain": [
              "RX(0.54, wires=[1])"
            ]
          },
          "execution_count": 7,
          "metadata": {},
          "output_type": "execute_result"
        }
      ],
      "source": [
        "# Make a cirucit\n",
        "\n",
        "qml.X(wires=[0])\n",
        "qml.RX(0.54, wires=1)\n",
        "\n",
        "# https://docs.pennylane.ai/en/stable/introduction/operations.html#Qubit%20operators\n"
      ]
    },
    {
      "cell_type": "code",
      "execution_count": null,
      "metadata": {
        "id": "F_QmAffPvSeQ"
      },
      "outputs": [],
      "source": []
    }
  ],
  "metadata": {
    "colab": {
      "provenance": []
    },
    "kernelspec": {
      "display_name": "Python 3",
      "name": "python3"
    },
    "language_info": {
      "codemirror_mode": {
        "name": "ipython",
        "version": 3
      },
      "file_extension": ".py",
      "mimetype": "text/x-python",
      "name": "python",
      "nbconvert_exporter": "python",
      "pygments_lexer": "ipython3",
      "version": "3.11.5"
    }
  },
  "nbformat": 4,
  "nbformat_minor": 0
}
