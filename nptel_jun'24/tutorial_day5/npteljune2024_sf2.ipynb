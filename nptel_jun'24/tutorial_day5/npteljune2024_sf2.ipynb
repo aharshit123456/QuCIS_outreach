{
  "nbformat": 4,
  "nbformat_minor": 0,
  "metadata": {
    "colab": {
      "provenance": []
    },
    "kernelspec": {
      "name": "python3",
      "display_name": "Python 3"
    },
    "language_info": {
      "name": "python"
    }
  },
  "cells": [
    {
      "cell_type": "code",
      "execution_count": null,
      "metadata": {
        "id": "N38Y_4qtiS6D"
      },
      "outputs": [],
      "source": [
        "!pip install strawberryfields"
      ]
    },
    {
      "cell_type": "markdown",
      "source": [
        "# Hamiltonian Simulation\n",
        "\n",
        "Simulation of physical quantum systems is an important application of quantum computation. There are some problems which are knows to be computationally hard for a classical computer - for example the notorious many-body problem in physics. For bosonic systems (and even single particle fermionic systems), the Continuous Variable model provides a suitable playground. Let us see how we can make a phtoonic quantum circuit to simulate the dynamics of a lattice-based system."
      ],
      "metadata": {
        "id": "WosW7aavPV59"
      }
    },
    {
      "cell_type": "markdown",
      "source": [
        "The Bose-Hubbard Model with onsite interations is defined by the Hamiltonian\n",
        "\n",
        "$$\\hat{H} = J\\sum_{ij} (A_{ij}\\hat{a}_i^\\dagger\\hat{a}_j + \\mathrm{h.c.}) + \\frac{1}{2}U\\sum_i\\hat{n}_i(\\hat{n}_i - 1)$$\n",
        "\n",
        "On a 2-site lattice, this reduces to\n",
        "$$\\hat{H} = J(\\hat{a}_1^\\dagger\\hat{a}_2 + \\hat{a}_2^\\dagger\\hat{a}_1) + \\frac{1}{2}U(\\hat{n}_1^2 -\\hat{n}_1 + \\hat{n}_2^2 - \\hat{n}_2)$$\n",
        "\n",
        "Here, $J$ represents the hopping amplitude of the boson between modes, and $U$ is the strength of the onsite interaction potential. $\\hat{a}_1^\\dagger\\hat{a}_2$ talks about a boson hopping from site 1 to site 2, and its Hermitian conjugate talks about vice versa.\n",
        "\n",
        "The Lie-Product formula is a useful approximation:\n",
        "$$\\exp(A+B) = \\lim_{n \\to \\infty} (e^{A/n}e^{B/n})^n$$\n",
        "\n",
        "The time evolution of a (time-independent) Hamiltonian is obtained by exponentiating it as follows:\n",
        "\n",
        "$$\\hat{U}(t, 0) = e^{-iH(t - 0)} = e^{-iHt}$$\n",
        "\n",
        "We use this approximation to study the time evolution of the Hamiltonian of interest. Applying the Lie-Product formula to our Hamiltonian, we get:\n",
        "\n",
        "$$e^{-iHt} = \\Bigl[\\exp\\Bigl(-i\\frac{Jt}{k}(\\hat{a}_1^\\dagger\\hat{a}_2 + \\hat{a}_2^\\dagger\\hat{a}_1)\\Bigr)\\exp\\Bigl(-i\\frac{Ut}{2k}\\hat{n}_1^2\\Bigr)\\exp\\Bigl(-i\\frac{Ut}{2k}\\hat{n}_2^2\\Bigr)\\exp\\Bigl(-i\\frac{Ut}{2k}\\hat{n}_1\\Bigr)\\exp\\Bigl(-i\\frac{Ut}{2k}\\hat{n}_2\\Bigr)\\Bigr]^k + \\mathcal{O}(t^2/k)$$\n",
        "\n",
        "we can compare this expression to those of the CV gates and write this in the form of beam-splitters, Kerr gates, and rotation gates."
      ],
      "metadata": {
        "id": "FA6WKRRTPVp7"
      }
    },
    {
      "cell_type": "markdown",
      "source": [
        "We therefore have\n",
        "\n",
        "$$e^{iHt} = [BS(\\theta, \\phi)(K(r)R(-r) \\otimes K(r)R(-r))]^k + \\mathcal{O}(t^2/k)$$\n",
        "\n",
        "Where $\\theta = -Jt/k, \\phi = \\pi/2$ and $r = -Ut/2k$\n",
        "\n",
        "For k = 2, the circuit diagram would look like\n",
        "\n",
        " ![image.png](data:image/png;base64,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)"
      ],
      "metadata": {
        "id": "BswTBveIT1i1"
      }
    },
    {
      "cell_type": "code",
      "source": [
        "import numpy as np\n",
        "import strawberryfields as sf\n",
        "from strawberryfields.ops import *\n",
        "import matplotlib.pyplot as plt"
      ],
      "metadata": {
        "id": "hY2ZhjO6PTrx"
      },
      "execution_count": null,
      "outputs": []
    },
    {
      "cell_type": "markdown",
      "source": [
        "Now we define the parameters of the Hamiltonian"
      ],
      "metadata": {
        "id": "ccWuSgeHU_uc"
      }
    },
    {
      "cell_type": "markdown",
      "source": [
        "For the circuit, we need to define a `Program` object in Strawberry Fields, and populate the qumode registers using `with` and `prog.context` statements.\n"
      ],
      "metadata": {
        "id": "bKmuUPuGhp1V"
      }
    },
    {
      "cell_type": "code",
      "source": [
        "ham_simulation = sf.Program(2)\n",
        "\n",
        "# set the Hamiltonian parameters\n",
        "J = 1           # hopping transition\n",
        "U = 1.5         # on-site interaction\n",
        "k = 20          # Lie product decomposition terms\n",
        "t = 1.086       # timestep\n",
        "theta = -J*t/k\n",
        "r = -U*t/(2*k)"
      ],
      "metadata": {
        "id": "GxTftUv5hzHX"
      },
      "execution_count": null,
      "outputs": []
    },
    {
      "cell_type": "code",
      "source": [
        "with ham_simulation.context as q:\n",
        "    # prepare the initial state\n",
        "    Fock(2) | q[0]\n",
        "\n",
        "    # Two node tight-binding\n",
        "    # Hamiltonian simulation\n",
        "\n",
        "    for i in range(k):\n",
        "        BSgate(theta, np.pi/2) | (q[0], q[1])\n",
        "        Kgate(r)  | q[0]\n",
        "        Rgate(-r) | q[0]\n",
        "        Kgate(r)  | q[1]\n",
        "        Rgate(-r) | q[1]"
      ],
      "metadata": {
        "id": "PYGCZp3oh4Gx"
      },
      "execution_count": null,
      "outputs": []
    },
    {
      "cell_type": "markdown",
      "source": [
        "To run this simulation, we will have to specify an `Engine`. Since we are working with initial states in the Fock basis, we will use the `Fock` backend, with a cutoff of 2 (which is sufficient since we are working with a single particle only)."
      ],
      "metadata": {
        "id": "VEa-sjKih8tu"
      }
    },
    {
      "cell_type": "code",
      "source": [
        "eng = sf.Engine(backend=\"fock\", backend_options={\"cutoff_dim\": 5})\n",
        "results = eng.run(ham_simulation)\n",
        "state = results.state\n",
        "print(\"P(|0, 2>) = \", state.fock_prob([0, 2]))\n",
        "print(\"P(|1, 1>) = \", state.fock_prob([1, 1]))\n",
        "print(\"P(|2, 0>) = \", state.fock_prob([2, 0]))"
      ],
      "metadata": {
        "colab": {
          "base_uri": "https://localhost:8080/"
        },
        "id": "nSS1xA3Nh-Vx",
        "outputId": "7fc558c2-43a0-4eed-f05e-d4c2789b5701"
      },
      "execution_count": null,
      "outputs": [
        {
          "output_type": "stream",
          "name": "stdout",
          "text": [
            "P(|0, 2>) =  0.5224012457200211\n",
            "P(|1, 1>) =  0.23565287685672523\n",
            "P(|2, 0>) =  0.24194587742326057\n"
          ]
        }
      ]
    },
    {
      "cell_type": "code",
      "source": [
        "result = [state.fock_prob([0, 2]), state.fock_prob([1, 1]), state.fock_prob([2, 0])]\n",
        "print(np.sum(result))"
      ],
      "metadata": {
        "colab": {
          "base_uri": "https://localhost:8080/"
        },
        "id": "jzy6TjeDiUVN",
        "outputId": "68b36b0f-6095-4b70-f145-2d8d82f4da14"
      },
      "execution_count": null,
      "outputs": [
        {
          "output_type": "stream",
          "name": "stdout",
          "text": [
            "1.0000000000000069\n"
          ]
        }
      ]
    },
    {
      "cell_type": "markdown",
      "source": [
        "We can compare this result to the analytic matrix exponential $e^{-iHt}$, where we can compute the matrix elements of the Hamiltonian in the Fock basis.\n",
        "This can be done by studying the action of the Hamiltonian on the basis states.\n",
        "\n",
        "$$\\langle 0, 2 | H | 0, 2 \\rangle = \\frac{1}{2}U\\langle 0 | (\\hat{n}^2 - \\hat{n}) | 0 \\rangle + \\frac{1}{2}U\\langle 2 | (\\hat{n}^2 - \\hat{n}) | 2 \\rangle  = \\frac{1}{2}U(2^2 - 2) = U$$\n",
        "\n",
        "Similarly,\n",
        "\n",
        "$$\\langle 1, 1 | H | 1, 1 \\rangle = 0$$\n",
        "$$\\langle 2, 0 | H | 2, 0 \\rangle = U$$\n",
        "\n",
        "And the hopping terms\n",
        "$$\\langle 1, 1 | H | 0, 2 \\rangle = J \\langle 1, 1 | (\\hat{a}_1^\\dagger\\hat{a}-2 + \\hat{a}_1\\hat{a}_2^\\dagger) | 0, 2 \\rangle =\n",
        "J(\\sqrt{1}\\sqrt{2} = \\sqrt{0}\\sqrt{3}) = J\\sqrt{2}$$\n",
        "\n",
        "$$\\langle 1, 1 | H | 2, 0 \\rangle = J\\sqrt{2}$$\n",
        "\n",
        "The above calculations and the property of Hermiticity of the Hamiltonian give us the final matrix form in the Fock basis as\n",
        "$$ H = \\begin{bmatrix} U & J\\sqrt{2} & 0 \\\\\n",
        "J\\sqrt{2} & 0 & J\\sqrt{2}\\\\\n",
        "0 & J\\sqrt{2} & U\\end{bmatrix}$$\n",
        "\n",
        "acting on the basis states $\\{|0, 2\\rangle, |1, 1\\rangle, |2, 0\\rangle\\}$. To exponentiate this, we can use SciPy's `scipy.linalg.expm` function."
      ],
      "metadata": {
        "id": "04SsT8nliXMh"
      }
    },
    {
      "cell_type": "code",
      "source": [
        "from scipy.linalg import expm\n",
        "\n",
        "H = J*np.sqrt(2)*np.array([[0,1,0],[1,0,1],[0,1,0]]) + U*np.diag([1,0,1])\n",
        "init_state = np.array([0,0,1])\n",
        "\n",
        "theoretical_result = np.abs(np.dot(expm(-1j*t*H), init_state))**2\n",
        "print(theoretical_result)\n"
      ],
      "metadata": {
        "colab": {
          "base_uri": "https://localhost:8080/"
        },
        "id": "jasCpOrPkr0P",
        "outputId": "0ed70c93-939b-4d53-b2b7-fd3ba2e127ff"
      },
      "execution_count": null,
      "outputs": [
        {
          "output_type": "stream",
          "name": "stdout",
          "text": [
            "[0.52249102 0.23516277 0.24234621]\n"
          ]
        }
      ]
    },
    {
      "cell_type": "code",
      "source": [
        "print(np.all(np.abs(theoretical_result - result) < 1e-2))"
      ],
      "metadata": {
        "colab": {
          "base_uri": "https://localhost:8080/"
        },
        "id": "DlnIqJwwkw5_",
        "outputId": "db5966fb-a470-4800-fcaa-1c654c6a715b"
      },
      "execution_count": null,
      "outputs": [
        {
          "output_type": "stream",
          "name": "stdout",
          "text": [
            "True\n"
          ]
        }
      ]
    },
    {
      "cell_type": "markdown",
      "source": [
        "We have successfully simulated the Bose-Hubbard Hamiltonian for this small system on a photonic platform!"
      ],
      "metadata": {
        "id": "sHn8HQZ0kytU"
      }
    },
    {
      "cell_type": "code",
      "source": [
        "# Hamiltonian parameters\n",
        "\n",
        "J = 1 # hopping amplitude\n",
        "U = 1.5 # on-site interaction strength\n",
        "k = 100 # Lie product decomposition terms\n",
        "timesteps = np.linspace(0, 2, 40)  # timestep"
      ],
      "metadata": {
        "id": "ZHxLI00dU7_4"
      },
      "execution_count": null,
      "outputs": []
    },
    {
      "cell_type": "code",
      "source": [
        "# initialize the circuit\n",
        "def circuit_at_timestep(J, U, k, timesteps):\n",
        "  eng = sf.Engine(backend=\"fock\", backend_options={\"cutoff_dim\": 2})\n",
        "\n",
        "  # create an array to store probabilities\n",
        "  probs = np.zeros((len(timesteps), 2))\n",
        "\n",
        "  # Run the circuit for each timestep\n",
        "  for t, time in enumerate(timesteps):\n",
        "    #print(\"Step: \", t)\n",
        "\n",
        "    # define a program with 2 qumodes for the two lattice sites\n",
        "    ham_sim = sf.Program(2)\n",
        "    theta = -J*time/k\n",
        "    r = -U*time/(2*k)\n",
        "\n",
        "    # prepare initial Fock state\n",
        "    with ham_sim.context as q:\n",
        "      Fock(1) | q[0]\n",
        "\n",
        "\n",
        "    with ham_sim.context as q:\n",
        "      # 2-mode tight-binding Hamiltonian\n",
        "      for i in range(k):\n",
        "        BSgate(theta, np.pi/2) | (q[0], q[1])\n",
        "        Kgate(r) | q[0]\n",
        "        Rgate(-r) | q[0]\n",
        "        Kgate(r) | q[1]\n",
        "        Rgate(-r) | q[1]\n",
        "\n",
        "    result = eng.run(ham_sim)\n",
        "    # Store the probabilities at each timestep\n",
        "    probs[t, 0] = result.state.fock_prob([1, 0])\n",
        "    probs[t, 1] = result.state.fock_prob([0, 1])\n",
        "\n",
        "    # As a sanity check, we can see if the sum of probabilities at all timesteps adds up to 1\n",
        "    #print(probs[t, 0] + probs[t, 1])\n",
        "\n",
        "    eng.reset()\n",
        "\n",
        "  return probs"
      ],
      "metadata": {
        "id": "LElrlUTeVd0q"
      },
      "execution_count": null,
      "outputs": []
    },
    {
      "cell_type": "code",
      "source": [
        "populations = circuit_at_timestep(J, U, k, timesteps)"
      ],
      "metadata": {
        "id": "U9KCmotGWTS8"
      },
      "execution_count": null,
      "outputs": []
    },
    {
      "cell_type": "code",
      "source": [],
      "metadata": {
        "colab": {
          "base_uri": "https://localhost:8080/"
        },
        "id": "U5MBdxAurN3L",
        "outputId": "e77fd8a6-4df4-42c2-d72d-c2369a3b4872"
      },
      "execution_count": null,
      "outputs": [
        {
          "output_type": "execute_result",
          "data": {
            "text/plain": [
              "array([0, 1])"
            ]
          },
          "metadata": {},
          "execution_count": 93
        }
      ]
    },
    {
      "cell_type": "code",
      "source": [
        "import seaborn as sns"
      ],
      "metadata": {
        "id": "rMFHJ186roh3"
      },
      "execution_count": null,
      "outputs": []
    },
    {
      "cell_type": "code",
      "source": [
        "# Make a plot of populations through time\n",
        "\n",
        "sites = np.arange(0, 2, 1)\n",
        "\n",
        "plt.pcolormesh(sites, timesteps, populations, cmap='mako')\n",
        "plt.xlabel('Site')\n",
        "plt.xticks(ticks=[0.02, 1], labels=['Site 1', 'Site 2'])\n",
        "plt.ylabel('Time')\n",
        "plt.colorbar(label=r'$P(t)$')"
      ],
      "metadata": {
        "colab": {
          "base_uri": "https://localhost:8080/",
          "height": 472
        },
        "id": "ALD_EcV3ZSfZ",
        "outputId": "26756d9d-3197-40fb-8908-e558fbaffddd"
      },
      "execution_count": null,
      "outputs": [
        {
          "output_type": "execute_result",
          "data": {
            "text/plain": [
              "<matplotlib.colorbar.Colorbar at 0x795f347028c0>"
            ]
          },
          "metadata": {},
          "execution_count": 104
        },
        {
          "output_type": "display_data",
          "data": {
            "text/plain": [
              "<Figure size 640x480 with 2 Axes>"
            ],
            "image/png": "[encoded data removed]"
          },
          "metadata": {}
        }
      ]
    },
    {
      "cell_type": "code",
      "source": [],
      "metadata": {
        "id": "VVgA36D9cFxf"
      },
      "execution_count": null,
      "outputs": []
    }
  ]
}