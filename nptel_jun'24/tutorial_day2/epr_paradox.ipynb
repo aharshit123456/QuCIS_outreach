{
 "cells": [
  {
   "cell_type": "markdown",
   "metadata": {},
   "source": [
    "Day 2 tutorial codebook\n",
    "\n",
    "## Einstein–Podolsky–Rosen paradox\n",
    "\n",
    "If you are learning about the cool stuff of entanglement, the EPR paradox plays a crucial role for the understanding of the fundamentals of quantum entanglment.\n",
    "One can look at it from Ram and Ashok's point of view.\n",
    "Ram is a very practical person, his believe firmly holds upon the realistiv view of the world, which seems very classical isn't it!\n",
    "On the other hand Ashok is a devotee of Quantum Mechanics and he believes in the assumptions of the quanum world rather than what is infront of him.\n",
    "\n",
    "Now let us define an thought experiment:\n"
   ]
  },
  {
   "cell_type": "code",
   "execution_count": null,
   "metadata": {},
   "outputs": [],
   "source": []
  },
  {
   "cell_type": "code",
   "execution_count": null,
   "metadata": {},
   "outputs": [],
   "source": []
  }
 ],
 "metadata": {
  "kernelspec": {
   "display_name": "nptel.venv",
   "language": "python",
   "name": "python3"
  },
  "language_info": {
   "codemirror_mode": {
    "name": "ipython",
    "version": 3
   },
   "file_extension": ".py",
   "mimetype": "text/x-python",
   "name": "python",
   "nbconvert_exporter": "python",
   "pygments_lexer": "ipython3",
   "version": "3.12.3"
  }
 },
 "nbformat": 4,
 "nbformat_minor": 2
}
