{
  "cells": [
    {
      "cell_type": "code",
      "execution_count": null,
      "metadata": {},
      "outputs": [],
      "source": []
    },
    {
      "cell_type": "markdown",
      "metadata": {
        "id": "b23gOgXpkNzP"
      },
      "source": [
        "----"
      ]
    },
    {
      "cell_type": "markdown",
      "metadata": {},
      "source": [
        " An essential step to  discuss how quantum computations are actually written down. Quantum computation ultimately requires that these qubits are manipulated and measured in some meaningful way. <br>\n",
        " <br>\n",
        "Quantum circuits are a visual way of representing the operations successively performed on qubits as the calculation is performed. You could describe a quantum circuit as a recipe or instructions on how to perform something on each qubit and when to perform that operation."
      ]
    },
    {
      "cell_type": "markdown",
      "metadata": {},
      "source": [
        "<div style=\"text-align: left;\">\n",
        "<img src=\"fig/first1.png\" alt=\"Example Image\" style=\"margin-left: 80px;\"width=\"300\"/>\n",
        "</div>"
      ]
    },
    {
      "cell_type": "markdown",
      "metadata": {},
      "source": [
        "----"
      ]
    },
    {
      "cell_type": "markdown",
      "metadata": {},
      "source": [
        "### Qubit\n",
        "\n",
        "A <b>qubit</b> is represented by a state, which is a column vector of two elements. The two most basic ones are the analogues of a bit's \"0\" and \"1\" state, which are represented by the following two vectors:\n",
        "\n",
        "<div style=\"text-align: left; gap: 100px;\">\n",
        "\n",
        "$\\mathbf{|0⟩} = \\begin{bmatrix} 1 \\\\ 0 \\end{bmatrix}$ , \n",
        "\n",
        "$\\mathbf{|1⟩} = \\begin{bmatrix} 0 \\\\ 1 \\end{bmatrix}$.\n",
        "\n",
        "</div>\n",
        "\n",
        "Quite often, we will see the notation $\\ket{\\psi}$ which represents a qubit in some arbitrary state labelled by\n",
        "${\\psi}$"
      ]
    },
    {
      "cell_type": "code",
      "execution_count": 22,
      "metadata": {},
      "outputs": [
        {
          "name": "stdout",
          "output_type": "stream",
          "text": [
            "[1 0]\n"
          ]
        }
      ],
      "source": [
        "import numpy as np # numpy is the main numerical computing library in Python\n",
        "\n",
        "# Here are the vector representations of |0> and |1>, for convenience\n",
        "ket_0 = np.array([1, 0])\n",
        "ket_1 = np.array([0, 1])\n",
        "\n",
        "print(ket_0)"
      ]
    },
    {
      "cell_type": "markdown",
      "metadata": {},
      "source": [
        "Bra-ket notation gets its name for a reason: for every ket, there is an associated bra. A bra  is a row vector, where each element in the vector is the complex conjugate of the corresponding element in the ket. (<b>More formally, a bra is the conjugate transpose of a ket</b>.) The notation for bras is the reverse of the notation for kets. <br>\n",
        "$\\mathbf{\\bra{0}} = \\begin{bmatrix} 1 & 0 \\end{bmatrix}$ , \n",
        "\n",
        "$\\mathbf{\\bra{1}} = \\begin{bmatrix} 0 & 1 \\end{bmatrix}$."
      ]
    },
    {
      "cell_type": "markdown",
      "metadata": {},
      "source": [
        "#### <b>Exercise 1.1</b>:\n",
        "We know that any quantum 1 qubit quantum state can be written as : $\\mathbf{\\ket{\\psi}} = \\alpha\\ket{0} + \\beta\\ket{1} $,  where $\\mathbf{\\alpha^2} + \\mathbf{\\beta^2} = 1$ \n",
        "\n",
        "Complete a below function $i.e.$, 'normalized_vector' which will give the updated  alpha($\\mathbf{\\alpha'}$) and updated beta($\\mathbf{\\beta'}$) values such what $\\mathbf{\\alpha'^2} + \\mathbf{\\beta'^2} = 1$ because given $\\mathbf{\\alpha^2} + \\mathbf{\\beta^2} \\neq 1$"
      ]
    },
    {
      "cell_type": "markdown",
      "metadata": {},
      "source": [
        "Reference material :<br> \n",
        "* [How to find the norm](https://numpy.org/doc/stable/reference/generated/numpy.linalg.norm.html) \n",
        "* [Complex number absolute value](https://www.w3schools.com/python/ref_func_abs.asp)\n",
        "* [How check the type of a variable](https://www.geeksforgeeks.org/python-type-function/)\n",
        "* [Square root function](https://www.geeksforgeeks.org/python-math-function-sqrt/)"
      ]
    },
    {
      "cell_type": "code",
      "execution_count": null,
      "metadata": {},
      "outputs": [],
      "source": [
        "import random # random is a Python library that generates random numbers\n",
        "\n",
        "def normalize_vector(alpha, beta):\n",
        "    \"\"\"Compute a normalized quantum state given arbitrary amplitudes.\n",
        "\n",
        "    Args:\n",
        "        alpha (complex): The amplitude associated with the |0> state.\n",
        "        beta (complex): The amplitude associated with the |1> state.\n",
        "\n",
        "    Returns:\n",
        "        np.array[complex]: A vector (numpy array) with 2 elements that represents\n",
        "        a normalized quantum state.\n",
        "    \"\"\"\n",
        "    print(alpha, beta)\n",
        "    ##################\n",
        "    # YOUR CODE HERE #\n",
        "    ##################\n",
        "\n",
        "    # CREATE A VECTOR [a', b'] BASED ON alpha AND beta SUCH THAT |a'|^2 + |b'|^2 = 1\n",
        "    \n",
        "    alpha_modified =          # Write the code \n",
        "    beta_modified =          # write a code\n",
        "    # RETURN A VECTOR\n",
        "    \n",
        "    return np.array([alpha_modified, beta_modified])\n",
        "\n",
        "a_random = complex(random.uniform(-10, 10), random.uniform(-10, 10))\n",
        "b_random  = complex(random.uniform(-10, 10), random.uniform(-10, 10))\n",
        "a1, b1 = normalize_vector(a_random, b_random)\n",
        "\n",
        "if not np.isclose(np.linalg.norm([a1, b1]), 1):\n",
        "    raise ValueError(f\"Normalization failed: {a1, b1}\") # This will raise an error if the normalization failed"
      ]
    },
    {
      "cell_type": "markdown",
      "metadata": {},
      "source": [
        "#### Pennylane view of qubit\n",
        "\n",
        "In Pennylane qubit is started by deafult with state zero *i.e.* $|0⟩$ <br>\n",
        "And the circuit will start with collection of <b>*wires*<b>\n",
        "\n",
        "<div style=\"text-align: left;\">\n",
        "    <img src=\"fig/qubit.png\" alt=\"Image 1\" style=\"margin-right: 80px;\" width=\"350\"/>\n",
        "    <img src=\"fig/wires.png\" alt=\"Image 2\" width=\"300\"/>\n",
        "</div>\n"
      ]
    },
    {
      "cell_type": "markdown",
      "metadata": {},
      "source": [
        "\n",
        "<div style=\"text-align: left;\">\n",
        "<img src=\"fig/p_code1.png\" alt=\"Example Image\" style=\"margin-left: 80px;\"width=\"400\"/>\n",
        "</div>\n",
        "\n",
        "---"
      ]
    },
    {
      "cell_type": "markdown",
      "metadata": {},
      "source": [
        "### Operators on qubit states\n",
        "\n",
        "For the manipulation of the quantum state the ingredient which we need is quantum gates. <br>\n",
        "Qubit states are vectors, so we need a mathematical means of modifying a vector $\\ket{\\psi}$\n",
        "to produce another vector $\\ket{\\psi'}$: <br>\n",
        "<div style=\"text-align: center;\">\n",
        "\n",
        "$\\mathbf{\\ket{\\psi}} = \\alpha\\ket{0} + \\beta\\ket{1} \\rightarrow   \\mathbf{\\ket{\\psi'}} = \\alpha'\\ket{0} + \\beta'\\ket{1}$<br>\n",
        "\n",
        "</div>\n",
        "\n",
        "\n",
        "\n",
        "What sends a 2-dimensional vector to another 2-dimensional vector. This can be done to multiplication by a 2 x 2\n",
        "matrix, which will perserve the form of the vector. <br>\n",
        "\n",
        "Even after an operation, the measurement outcome probabilities must sum to 1, i.e.,$\\mathbf{|\\alpha'|^2} + \\mathbf{|\\beta'|^2} = 1$ <br>\n",
        "\n",
        "There is a special class of matrices that preserves the length of quantum states: unitary matrices $UU^{\\dagger}= I$. Their defining property is that\n",
        "where the indicates the taking complex conjugate of all elements in the transpose of $U$, and $I$ \n",
        "is the 2 X 2  identity matrix.\n"
      ]
    },
    {
      "cell_type": "markdown",
      "metadata": {},
      "source": [
        "#### <b>Exercise 1.2</b>:\n",
        "Recall that quantum operations are represented as matrices. To preserve normalization, they must be a special type of matrix called a unitary matrix. For some complex-valued unitary matrix the state of the qubit after an operation is\n",
        "<div style=\"text-align: center;\">\n",
        "\n",
        "$ \\ket{\\psi'} = U\\ket{\\psi}$\n",
        "    \n",
        "</div>\n",
        "\n",
        "\n",
        "Let's simulate the process by completing the function *apply_unitary* below to apply the provided quantum operation $U$ to an input **state**.\n",
        "\n",
        "Complete a below function $i.e.$, **apply_unitary** which will give the updated  quantum state afcter apply the given unitary."
      ]
    },
    {
      "cell_type": "code",
      "execution_count": 24,
      "metadata": {},
      "outputs": [
        {
          "ename": "IndentationError",
          "evalue": "expected an indented block after function definition on line 3 (3157337828.py, line 4)",
          "output_type": "error",
          "traceback": [
            "\u001b[0;36m  Cell \u001b[0;32mIn[24], line 4\u001b[0;36m\u001b[0m\n\u001b[0;31m    random_matrix = np.random.rand(2, 2) + 1j * np.random.rand(2, 2)\u001b[0m\n\u001b[0m    ^\u001b[0m\n\u001b[0;31mIndentationError\u001b[0m\u001b[0;31m:\u001b[0m expected an indented block after function definition on line 3\n"
          ]
        }
      ],
      "source": [
        "import numpy as np\n",
        "\n",
        "def create_random_uni():\n",
        "random_matrix = np.random.rand(2, 2) + 1j * np.random.rand(2, 2)\n",
        "\n",
        "# Step 2: Perform QR decomposition\n",
        "Q, R = np.linalg.qr(random_matrix)\n",
        "\n",
        "# Step 3: Normalize Q to make it unitary\n",
        "unitary_matrix = Q\n",
        "\n",
        "# Display the result\n",
        "print(\"Random Unitary Matrix:\")\n",
        "print(unitary_matrix)\n",
        "\n",
        "\n",
        "\n",
        "U = np.array([[1, 1], [1, -1]]) / np.sqrt(2)\n",
        "\n",
        "\n",
        "def apply_u(state):\n",
        "    \"\"\"Apply a quantum operation.\n",
        "\n",
        "    Args:\n",
        "        state (np.array[complex]): A normalized quantum state vector.\n",
        "\n",
        "    Returns:\n",
        "        np.array[complex]: The output state after applying U.\n",
        "    \"\"\"\n",
        "\n",
        "    ##################\n",
        "    # YOUR CODE HERE #\n",
        "    ##################\n",
        "\n",
        "    # APPLY U TO THE INPUT STATE AND RETURN THE NEW STATE\n",
        "    pass"
      ]
    },
    {
      "cell_type": "markdown",
      "metadata": {},
      "source": [
        "### Pennylane view on Quantum Gates\n",
        "\n",
        "Qubits undergo operations commonly termed as <b>gates</b>, encompassing various types, each exerting distinct influences on the qubits. <br>\n",
        "While some gates target a single qubit, others extend their impact to two or more qubits simultaneously.\n",
        "\n",
        "\n"
      ]
    },
    {
      "cell_type": "markdown",
      "metadata": {},
      "source": [
        "To begin, in the circuits presented below, we'll denote various gate types with distinct shapes. The presence of a shape along a wire signifies the application of a gate to the corresponding qubit at that specific moment. <br><p style=\"color:orange;\">It's important to read quantum circuits from left to right.</p> For instance, in the given below diagram, we start by applying a triangle gate to qubits 0 and 2, then proceed with a rectangle gate affecting qubits 0 and 1 simultaneously, followed by a circle gate acting on qubit 2, and so forth.<br>\n",
        "<br>\n",
        "<div style=\"text-align: left;\">\n",
        "<img src=\"fig/gates.png\" alt=\"Example Image\" style=\"margin-left: 80px;\"width=\"400\"/>\n",
        "</div>\n",
        "\n",
        "Quantum operations that act on separate qubits can be applied in parallel. For example, note that the pentagon on qubit 0 can be \"pushed\" to the left, and applied at the same time as the rectangle on qubits 1 and 2:"
      ]
    },
    {
      "cell_type": "markdown",
      "metadata": {},
      "source": [
        "\n",
        "\n",
        "\n",
        "<div style=\"text-align: left;\">\n",
        "<img src=\"fig/depth.png\" alt=\"Example Image\" style=\"margin-left: 80px;\"width=\"600\"/>\n",
        "</div>\n",
        "\n",
        "---"
      ]
    },
    {
      "cell_type": "markdown",
      "metadata": {},
      "source": [
        "### Depth"
      ]
    },
    {
      "cell_type": "markdown",
      "metadata": {},
      "source": [
        "The <b>depth</b> is the number of time steps it takes for a circuit to run, if we do things as in-parallel as possible. Alternatively, you can think of it as the number of layers in a circuit"
      ]
    },
    {
      "cell_type": "markdown",
      "metadata": {},
      "source": [
        "Another enjoyable approach to conceptualize depth is to liken circuit gates to Lego bricks, imagining the structure we would create by assembling them. <br>The resulting length of this structure mirrors the depth of the circuit! For instance, constructing the circuit using the depicted set of gates vividly reveals its depth of 6.\n",
        "\n",
        "<div style=\"text-align: left;\">\n",
        "<img src=\"fig/depth2.png\" alt=\"Example\" style=\"margin-left: 80px;\"width=\"600\"/>\n",
        "</div>\n",
        "\n",
        "---"
      ]
    },
    {
      "cell_type": "markdown",
      "metadata": {},
      "source": [
        "### Measurements"
      ]
    },
    {
      "cell_type": "markdown",
      "metadata": {},
      "source": [
        "The final step of any quantum computation is a measurement of one or more of the qubits, so when a quantum state is measured it probabilistically collapses to one of these states. A measurement is depicted in a circuit as a box with a dial, as shown below.\n",
        "\n",
        "<div style=\"text-align: left;\">\n",
        "<img src=\"fig/meas.png\" alt=\"Example\" style=\"margin-left: 80px;\"width=\"500\"/>\n",
        "</div>\n",
        "\n",
        "---"
      ]
    },
    {
      "cell_type": "markdown",
      "metadata": {},
      "source": [
        "#### <b>Exercise 1.2</b>\n",
        "Draw the circuit diagram for a 4-qubit circuit from the following set of instructions: <br> <br>\n",
        "\n",
        "* Initialize all the qubits in $|0⟩$ <br>\n",
        "\n",
        "* Apply a circle operation to qubit 2 <br>\n",
        "* Apply a circle operation to qubit 0 <br>\n",
        "* Apply a triangle operation to qubit 1 <br>\n",
        "* Apply a triangle operation to qubit 3 <br>\n",
        "* Apply a rectangle operation between qubits 0 and 1 <br>\n",
        "* Apply a rectangle operation between qubits 1 and 2 <br>\n",
        "* Measure all the qubits\n",
        "\n",
        "\n",
        "👉 [USe this online sketchpad](https://sketch.io/sketchpad/)"
      ]
    },
    {
      "cell_type": "markdown",
      "metadata": {},
      "source": [
        "### Install the <b>pennylane</b> package "
      ]
    },
    {
      "cell_type": "code",
      "execution_count": 5,
      "metadata": {},
      "outputs": [],
      "source": [
        "#uncomment the below command and execute it \n",
        "\n",
        "#!pip install pennylane "
      ]
    },
    {
      "cell_type": "markdown",
      "metadata": {},
      "source": [
        "#### Import the pennylane package"
      ]
    },
    {
      "cell_type": "code",
      "execution_count": 2,
      "metadata": {},
      "outputs": [],
      "source": [
        "\n",
        "import pennylane as qml\n",
        "\n",
        "## know about the version of pennylane and  different libraray versions used in the pennylane\n",
        "## uncomment the below command and execute it\n",
        "# qml.about()"
      ]
    },
    {
      "cell_type": "markdown",
      "metadata": {},
      "source": [
        "#### Quantum circuits in Pennylane"
      ]
    },
    {
      "cell_type": "markdown",
      "metadata": {},
      "source": [
        "In PennyLane, a quantum circuit is represented by a <b>quantum function</b>. These are just regular Python functions, with some special properties: they must apply one or more quantum operations, and return one or more quantum measurements.<br>\n",
        "\n",
        "Suppose we would like to write a circuit for 2 qubits. By default in PennyLane, qubits (wires) are ordered numerically starting from 0 (which corresponds to the top qubit in the circuit). In pseudocode, a quantum function looks something like this:"
      ]
    },
    {
      "cell_type": "code",
      "execution_count": 7,
      "metadata": {
        "id": "F_QmAffPvSeQ"
      },
      "outputs": [],
      "source": [
        "## define the function with name : my_quantum_function \n",
        "## and the function takes input parameter as params \n",
        "\n",
        "def my_quantum_function(params):\n",
        "\n",
        "    # Single-qubit operations with no input parameters\n",
        "    qml.QGate1(wires=0)\n",
        "    qml.QGate2(wires=1)\n",
        "\n",
        "    # A single-qubit operation with an input parameter\n",
        "    qml.QRotaionalGate1(params[0], wires=0)\n",
        "\n",
        "    # Two-qubit operation with no input parameter on wires 0 and 1\n",
        "    qml.TwoQubitGate1(wires=[0, 1])\n",
        "\n",
        "    # Two-qubit operation with an input parameter on wires 0 and 1\n",
        "    qml.TwoQubitGate2(params[1], wires=[0, 1])\n",
        "\n",
        "    # Return the result of a measurement\n",
        "    return qml.Measurement(wires=[0, 1])"
      ]
    },
    {
      "cell_type": "markdown",
      "metadata": {},
      "source": [
        "#### <b>Exercise_1.3.</b>\n",
        "Write an function with the help of pennylane for the below circuit <br> <br>\n",
        "\n",
        "<div style=\"text-align: left;\">\n",
        "<img src=\"fig/op_12.png\" alt=\"Example\" style=\"margin-left: 80px;\"width=\"500\"/>\n",
        "</div>\n",
        "\n",
        "Reference : Checkout the qml module as it is the top level module from which all basic functions and classes of PennyLane can be directly imported.<br>\n",
        "[👉 👉 Click here ✋](https://docs.pennylane.ai/en/stable/code/qml.html)\n"
      ]
    },
    {
      "cell_type": "code",
      "execution_count": null,
      "metadata": {},
      "outputs": [],
      "source": []
    },
    {
      "cell_type": "code",
      "execution_count": null,
      "metadata": {},
      "outputs": [],
      "source": []
    },
    {
      "cell_type": "code",
      "execution_count": null,
      "metadata": {},
      "outputs": [],
      "source": []
    },
    {
      "cell_type": "code",
      "execution_count": null,
      "metadata": {},
      "outputs": [],
      "source": []
    }
  ],
  "metadata": {
    "colab": {
      "provenance": []
    },
    "kernelspec": {
      "display_name": "Python 3",
      "name": "python3"
    },
    "language_info": {
      "codemirror_mode": {
        "name": "ipython",
        "version": 3
      },
      "file_extension": ".py",
      "mimetype": "text/x-python",
      "name": "python",
      "nbconvert_exporter": "python",
      "pygments_lexer": "ipython3",
      "version": "3.11.5"
    }
  },
  "nbformat": 4,
  "nbformat_minor": 0
}
